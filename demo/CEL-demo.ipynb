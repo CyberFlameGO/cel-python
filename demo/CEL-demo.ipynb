{
 "cells": [
  {
   "cell_type": "markdown",
   "metadata": {},
   "source": [
    "# Google Common Expression Language (CEL) in Python\n",
    "\n",
    "See https://github.com/google/cel-spec\n",
    "\n",
    "See https://github.com/cloud-custodian/cloud-custodian/issues/5759 for the Cloud Custodian rationale for including CEL as a replacement for the filter language."
   ]
  },
  {
   "cell_type": "markdown",
   "metadata": {},
   "source": [
    "## Goal\n",
    "\n",
    "Here's the target state.\n",
    "\n",
    "```\n",
    "policies:\n",
    "   - name: compute-check\n",
    "      resource: gcp.instance\n",
    "      filters:\n",
    "        - type: cel\n",
    "           expr: |\n",
    "               resource.creationTimestamp < timestamp(\"2018-08-03T16:00:00-07:00\") &&\n",
    "               resource.deleteProtection == false &&\n",
    "               ((resource.name.startsWith(\n",
    "                   \"projects/project-123/zones/us-east1-b/instances/dev\") ||\n",
    "               (resource.name.startsWith(\n",
    "                   \"projects/project-123/zones/us-east1-b/instances/prod\"))) &&\n",
    "               resource.instanceSize == \"m1.standard\")\n",
    "```\n",
    "\n",
    "We've replaced a legacy YAML filter expression with a CEL expression using easier-to-read logic and comparison operators. \n",
    "\n",
    "Also. We've provided an object, `resource`, to the CEL engine. This has the attributes we're interested in, converted into a friendly CEL data structures (e.g., the timestamps.)"
   ]
  },
  {
   "cell_type": "markdown",
   "metadata": {},
   "source": [
    "## Implementation\n",
    "\n",
    "There are several steps to creating and evaluating a CEL expression.\n",
    "\n",
    "1. Create an environment.\n",
    "2. Parse the expression.\n",
    "3. Build a \"program\" from the expression and any additional functions required.\n",
    "4. Evaluate the program with the variable bindings."
   ]
  },
  {
   "cell_type": "code",
   "execution_count": 1,
   "metadata": {},
   "outputs": [],
   "source": [
    "import logging\n",
    "logging.getLogger('').setLevel(logging.WARNING)"
   ]
  },
  {
   "cell_type": "code",
   "execution_count": 2,
   "metadata": {},
   "outputs": [],
   "source": [
    "import celpy"
   ]
  },
  {
   "cell_type": "code",
   "execution_count": 3,
   "metadata": {},
   "outputs": [],
   "source": [
    "env = celpy.Environment()"
   ]
  },
  {
   "cell_type": "code",
   "execution_count": 4,
   "metadata": {},
   "outputs": [],
   "source": [
    "CEL = \"\"\"\n",
    "resource.creationTimestamp < timestamp(\"2018-08-03T16:00:00-07:00\") &&\n",
    "resource.deleteProtection == false &&\n",
    "((resource.name.startsWith(\n",
    "   \"projects/project-123/zones/us-east1-b/instances/dev\") ||\n",
    "(resource.name.startsWith(\n",
    "   \"projects/project-123/zones/us-east1-b/instances/prod\"))) &&\n",
    "resource.instanceSize == \"m1.standard\")\n",
    "\"\"\""
   ]
  },
  {
   "cell_type": "code",
   "execution_count": 5,
   "metadata": {},
   "outputs": [],
   "source": [
    "ast = env.compile(CEL)"
   ]
  },
  {
   "cell_type": "code",
   "execution_count": 6,
   "metadata": {},
   "outputs": [],
   "source": [
    "functions = {}\n",
    "prgm = env.program(ast, functions)"
   ]
  },
  {
   "cell_type": "code",
   "execution_count": 7,
   "metadata": {},
   "outputs": [],
   "source": [
    "activation = {\n",
    "    \"resource\": \n",
    "         celpy.celtypes.MapType({\n",
    "            \"creationTimestamp\": celpy.celtypes.TimestampType(\"2018-07-06T05:04:03Z\"),\n",
    "            \"deleteProtection\": celpy.celtypes.BoolType(False),\n",
    "            \"name\": celpy.celtypes.StringType(\"projects/project-123/zones/us-east1-b/instances/dev/ec2\"),\n",
    "            \"instanceSize\": celpy.celtypes.StringType(\"m1.standard\"),\n",
    "             # MORE WOULD GO HERE\n",
    "        })\n",
    "}"
   ]
  },
  {
   "cell_type": "code",
   "execution_count": 8,
   "metadata": {},
   "outputs": [
    {
     "data": {
      "text/plain": [
       "BoolType(True)"
      ]
     },
     "execution_count": 8,
     "metadata": {},
     "output_type": "execute_result"
    }
   ],
   "source": [
    "prgm.evaluate(activation)"
   ]
  },
  {
   "cell_type": "markdown",
   "metadata": {},
   "source": [
    "## JSON Conversion\n",
    "\n",
    "We have a handy JSON -> CEL function available. The subtlety is that it doesn't know what's supposed to be a timestamp."
   ]
  },
  {
   "cell_type": "code",
   "execution_count": 9,
   "metadata": {},
   "outputs": [
    {
     "data": {
      "text/plain": [
       "MapType({StringType('creationTimestamp'): StringType('2018-07-06T05:04:03Z'), StringType('deleteProtection'): BoolType(False), StringType('name'): StringType('projects/project-123/zones/us-east1-b/instances/dev/ec2'), StringType('instanceSize'): StringType('m1.standard')})"
      ]
     },
     "execution_count": 9,
     "metadata": {},
     "output_type": "execute_result"
    }
   ],
   "source": [
    "import json\n",
    "document = json.loads(\n",
    "\"\"\"\n",
    "{\n",
    "    \"creationTimestamp\": \"2018-07-06T05:04:03Z\",\n",
    "    \"deleteProtection\": false,\n",
    "    \"name\": \"projects/project-123/zones/us-east1-b/instances/dev/ec2\",\n",
    "    \"instanceSize\": \"m1.standard\"\n",
    "}\n",
    "\"\"\"\n",
    ")\n",
    "\n",
    "resource = celpy.json_to_cel(document)\n",
    "resource"
   ]
  },
  {
   "cell_type": "code",
   "execution_count": 10,
   "metadata": {},
   "outputs": [
    {
     "ename": "CELEvalError",
     "evalue": "(\"found no matching overload for 'relation_lt' applied to '(<class 'celpy.celtypes.StringType'>, <class 'celpy.celtypes.TimestampType'>)'\", <class 'TypeError'>, (\"'<' not supported between instances of 'StringType' and 'TimestampType'\",))",
     "output_type": "error",
     "traceback": [
      "\u001b[0;31m---------------------------------------------------------------------------\u001b[0m",
      "\u001b[0;31mTypeError\u001b[0m                                 Traceback (most recent call last)",
      "\u001b[0;32m~/Documents/C7N/cel-python/src/celpy/evaluation.py\u001b[0m in \u001b[0;36mrelation\u001b[0;34m(self, tree)\u001b[0m\n\u001b[1;32m   1010\u001b[0m             \u001b[0;32mtry\u001b[0m\u001b[0;34m:\u001b[0m\u001b[0;34m\u001b[0m\u001b[0;34m\u001b[0m\u001b[0m\n\u001b[0;32m-> 1011\u001b[0;31m                 \u001b[0;32mreturn\u001b[0m \u001b[0mfunc\u001b[0m\u001b[0;34m(\u001b[0m\u001b[0mleft\u001b[0m\u001b[0;34m,\u001b[0m \u001b[0mright\u001b[0m\u001b[0;34m)\u001b[0m\u001b[0;34m\u001b[0m\u001b[0;34m\u001b[0m\u001b[0m\n\u001b[0m\u001b[1;32m   1012\u001b[0m             \u001b[0;32mexcept\u001b[0m \u001b[0mTypeError\u001b[0m \u001b[0;32mas\u001b[0m \u001b[0mex\u001b[0m\u001b[0;34m:\u001b[0m\u001b[0;34m\u001b[0m\u001b[0;34m\u001b[0m\u001b[0m\n",
      "\u001b[0;32m~/Documents/C7N/cel-python/src/celpy/evaluation.py\u001b[0m in \u001b[0;36mbool_function\u001b[0;34m(a, b)\u001b[0m\n\u001b[1;32m    239\u001b[0m     \u001b[0;32mdef\u001b[0m \u001b[0mbool_function\u001b[0m\u001b[0;34m(\u001b[0m\u001b[0ma\u001b[0m\u001b[0;34m:\u001b[0m \u001b[0mcelpy\u001b[0m\u001b[0;34m.\u001b[0m\u001b[0mceltypes\u001b[0m\u001b[0;34m.\u001b[0m\u001b[0mValue\u001b[0m\u001b[0;34m,\u001b[0m \u001b[0mb\u001b[0m\u001b[0;34m:\u001b[0m \u001b[0mcelpy\u001b[0m\u001b[0;34m.\u001b[0m\u001b[0mceltypes\u001b[0m\u001b[0;34m.\u001b[0m\u001b[0mValue\u001b[0m\u001b[0;34m)\u001b[0m \u001b[0;34m->\u001b[0m \u001b[0mcelpy\u001b[0m\u001b[0;34m.\u001b[0m\u001b[0mceltypes\u001b[0m\u001b[0;34m.\u001b[0m\u001b[0mBoolType\u001b[0m\u001b[0;34m:\u001b[0m\u001b[0;34m\u001b[0m\u001b[0;34m\u001b[0m\u001b[0m\n\u001b[0;32m--> 240\u001b[0;31m         \u001b[0mresult\u001b[0m \u001b[0;34m=\u001b[0m \u001b[0mfunction\u001b[0m\u001b[0;34m(\u001b[0m\u001b[0ma\u001b[0m\u001b[0;34m,\u001b[0m \u001b[0mb\u001b[0m\u001b[0;34m)\u001b[0m\u001b[0;34m\u001b[0m\u001b[0;34m\u001b[0m\u001b[0m\n\u001b[0m\u001b[1;32m    241\u001b[0m         \u001b[0;32mif\u001b[0m \u001b[0mresult\u001b[0m \u001b[0;34m==\u001b[0m \u001b[0mNotImplemented\u001b[0m\u001b[0;34m:\u001b[0m\u001b[0;34m\u001b[0m\u001b[0;34m\u001b[0m\u001b[0m\n",
      "\u001b[0;31mTypeError\u001b[0m: '<' not supported between instances of 'StringType' and 'TimestampType'",
      "\nThe above exception was the direct cause of the following exception:\n",
      "\u001b[0;31mCELEvalError\u001b[0m                              Traceback (most recent call last)",
      "\u001b[0;32m<ipython-input-10-adb570246f8d>\u001b[0m in \u001b[0;36m<module>\u001b[0;34m\u001b[0m\n\u001b[0;32m----> 1\u001b[0;31m \u001b[0mprgm\u001b[0m\u001b[0;34m.\u001b[0m\u001b[0mevaluate\u001b[0m\u001b[0;34m(\u001b[0m\u001b[0;34m{\u001b[0m\u001b[0;34m'resource'\u001b[0m\u001b[0;34m:\u001b[0m \u001b[0mresource\u001b[0m\u001b[0;34m}\u001b[0m\u001b[0;34m)\u001b[0m\u001b[0;34m\u001b[0m\u001b[0;34m\u001b[0m\u001b[0m\n\u001b[0m",
      "\u001b[0;32m~/Documents/C7N/cel-python/src/celpy/__init__.py\u001b[0m in \u001b[0;36mevaluate\u001b[0;34m(self, context)\u001b[0m\n\u001b[1;32m    164\u001b[0m             \u001b[0mfunctions\u001b[0m\u001b[0;34m=\u001b[0m\u001b[0mself\u001b[0m\u001b[0;34m.\u001b[0m\u001b[0mfunctions\u001b[0m\u001b[0;34m\u001b[0m\u001b[0;34m\u001b[0m\u001b[0m\n\u001b[1;32m    165\u001b[0m         )\n\u001b[0;32m--> 166\u001b[0;31m         \u001b[0mvalue\u001b[0m \u001b[0;34m=\u001b[0m \u001b[0me\u001b[0m\u001b[0;34m.\u001b[0m\u001b[0mevaluate\u001b[0m\u001b[0;34m(\u001b[0m\u001b[0;34m)\u001b[0m\u001b[0;34m\u001b[0m\u001b[0;34m\u001b[0m\u001b[0m\n\u001b[0m\u001b[1;32m    167\u001b[0m         \u001b[0;32mreturn\u001b[0m \u001b[0mvalue\u001b[0m\u001b[0;34m\u001b[0m\u001b[0;34m\u001b[0m\u001b[0m\n\u001b[1;32m    168\u001b[0m \u001b[0;34m\u001b[0m\u001b[0m\n",
      "\u001b[0;32m~/Documents/C7N/cel-python/src/celpy/evaluation.py\u001b[0m in \u001b[0;36mevaluate\u001b[0;34m(self)\u001b[0m\n\u001b[1;32m    731\u001b[0m         \u001b[0mvalue\u001b[0m \u001b[0;34m=\u001b[0m \u001b[0mcast\u001b[0m\u001b[0;34m(\u001b[0m\u001b[0mResult\u001b[0m\u001b[0;34m,\u001b[0m \u001b[0mself\u001b[0m\u001b[0;34m.\u001b[0m\u001b[0mvisit\u001b[0m\u001b[0;34m(\u001b[0m\u001b[0mself\u001b[0m\u001b[0;34m.\u001b[0m\u001b[0mast\u001b[0m\u001b[0;34m)\u001b[0m\u001b[0;34m)\u001b[0m\u001b[0;34m\u001b[0m\u001b[0;34m\u001b[0m\u001b[0m\n\u001b[1;32m    732\u001b[0m         \u001b[0;32mif\u001b[0m \u001b[0misinstance\u001b[0m\u001b[0;34m(\u001b[0m\u001b[0mvalue\u001b[0m\u001b[0;34m,\u001b[0m \u001b[0mCELEvalError\u001b[0m\u001b[0;34m)\u001b[0m\u001b[0;34m:\u001b[0m\u001b[0;34m\u001b[0m\u001b[0;34m\u001b[0m\u001b[0m\n\u001b[0;32m--> 733\u001b[0;31m             \u001b[0;32mraise\u001b[0m \u001b[0mvalue\u001b[0m\u001b[0;34m\u001b[0m\u001b[0;34m\u001b[0m\u001b[0m\n\u001b[0m\u001b[1;32m    734\u001b[0m         \u001b[0;32mreturn\u001b[0m \u001b[0mcast\u001b[0m\u001b[0;34m(\u001b[0m\u001b[0mcelpy\u001b[0m\u001b[0;34m.\u001b[0m\u001b[0mceltypes\u001b[0m\u001b[0;34m.\u001b[0m\u001b[0mValue\u001b[0m\u001b[0;34m,\u001b[0m \u001b[0mvalue\u001b[0m\u001b[0;34m)\u001b[0m\u001b[0;34m\u001b[0m\u001b[0;34m\u001b[0m\u001b[0m\n\u001b[1;32m    735\u001b[0m \u001b[0;34m\u001b[0m\u001b[0m\n",
      "\u001b[0;31mCELEvalError\u001b[0m: (\"found no matching overload for 'relation_lt' applied to '(<class 'celpy.celtypes.StringType'>, <class 'celpy.celtypes.TimestampType'>)'\", <class 'TypeError'>, (\"'<' not supported between instances of 'StringType' and 'TimestampType'\",))"
     ]
    }
   ],
   "source": [
    "\n",
    "prgm.evaluate({'resource': resource})"
   ]
  },
  {
   "cell_type": "markdown",
   "metadata": {},
   "source": [
    "What can we do?\n",
    "\n",
    "We have some choices:\n",
    "\n",
    "- Conversion in CEL\n",
    "\n",
    "- Conversion of the source document before CEL evaluation."
   ]
  },
  {
   "cell_type": "markdown",
   "metadata": {},
   "source": [
    "## Conversion in CEL\n",
    "\n",
    "We can convert input strings to more useful CEL types explicitly. \n",
    "\n",
    "Instead of `resource.creationTimestamp`, we use `timestamp(resource.creationTimestamp)`. "
   ]
  },
  {
   "cell_type": "code",
   "execution_count": 39,
   "metadata": {},
   "outputs": [],
   "source": [
    "CEL2 = \"\"\"\n",
    "timestamp(resource.creationTimestamp) < timestamp(\"2018-08-03T16:00:00-07:00\") &&\n",
    "resource.deleteProtection == false &&\n",
    "((resource.name.startsWith(\n",
    "   \"projects/project-123/zones/us-east1-b/instances/dev\") ||\n",
    "(resource.name.startsWith(\n",
    "   \"projects/project-123/zones/us-east1-b/instances/prod\"))) &&\n",
    "resource.instanceSize == \"m1.standard\")\n",
    "\"\"\"\n",
    "ast2 = env.compile(CEL2)\n",
    "prgm2 = env.program(ast2, functions)"
   ]
  },
  {
   "cell_type": "code",
   "execution_count": 40,
   "metadata": {},
   "outputs": [
    {
     "data": {
      "text/plain": [
       "BoolType(True)"
      ]
     },
     "execution_count": 40,
     "metadata": {},
     "output_type": "execute_result"
    }
   ],
   "source": [
    "prgm2.evaluate({'resource': resource})"
   ]
  },
  {
   "cell_type": "markdown",
   "metadata": {},
   "source": [
    "## Conversion of the source document CEL\n",
    "\n",
    "This requires pre-processing to convert timestamps before CEL evaluation. This (in turn) requires a careful definition of the source schema for the JSON in order to perform the conversions.\n",
    "\n",
    "This seems fraught with potential complexities."
   ]
  },
  {
   "cell_type": "markdown",
   "metadata": {},
   "source": [
    "## Visibility\n",
    "\n",
    "We can enable logging. In a notebook, we have to be careful because the log lines will go to the notebook log if we're not careful. We want to have our own handlers to capture the output in a separate file.\n",
    "\n",
    "And, yes, this is **verbose**. Suggestions are welcome."
   ]
  },
  {
   "cell_type": "code",
   "execution_count": 41,
   "metadata": {},
   "outputs": [],
   "source": [
    "import logging\n",
    "logging.basicConfig()\n",
    "logging.getLogger('').setLevel(logging.INFO)"
   ]
  },
  {
   "cell_type": "code",
   "execution_count": 42,
   "metadata": {},
   "outputs": [
    {
     "name": "stderr",
     "output_type": "stream",
     "text": [
      "INFO:Evaluator:activation: Activation(annotations={}, package=None, vars={'resource': MapType({StringType('creationTimestamp'): StringType('2018-07-06T05:04:03Z'), StringType('deleteProtection'): BoolType(False), StringType('name'): StringType('projects/project-123/zones/us-east1-b/instances/dev/ec2'), StringType('instanceSize'): StringType('m1.standard')})})\n",
      "INFO:Evaluator:functions: ChainMap({}, {'!_': <function logical_not at 0x7ff8c76fc8c0>, '-_': <built-in function neg>, '_+_': <built-in function add>, '_-_': <built-in function sub>, '_*_': <built-in function mul>, '_/_': <built-in function truediv>, '_%_': <built-in function mod>, '_<_': <function lt at 0x7ff8c7767f80>, '_<=_': <function le at 0x7ff8c776f050>, '_>=_': <function ge at 0x7ff8c776f0e0>, '_>_': <function gt at 0x7ff8c776f170>, '_==_': <function eq at 0x7ff8c776f200>, '_!=_': <function ne at 0x7ff8c776f290>, '_in_': <function operator_in at 0x7ff8c7767e60>, '_||_': <function logical_or at 0x7ff8c76fc950>, '_&&_': <function logical_and at 0x7ff8c76fc830>, '_?_:_': <function logical_condition at 0x7ff8c76fc7a0>, '_[_]': <built-in function getitem>, 'size': <function function_size at 0x7ff8c7767ef0>, 'endsWith': <function <lambda> at 0x7ff8c776f320>, 'startsWith': <function <lambda> at 0x7ff8c776f3b0>, 'matches': <function <lambda> at 0x7ff8c776f440>, 'contains': <function <lambda> at 0x7ff8c776f4d0>, 'getDate': <function <lambda> at 0x7ff8c776f560>, 'getDayOfMonth': <function <lambda> at 0x7ff8c776f5f0>, 'getDayOfWeek': <function <lambda> at 0x7ff8c776f680>, 'getDayOfYear': <function <lambda> at 0x7ff8c776f710>, 'getFullYear': <function <lambda> at 0x7ff8c776f7a0>, 'getMonth': <function <lambda> at 0x7ff8c776f830>, 'getHours': <function <lambda> at 0x7ff8c776f8c0>, 'getMilliseconds': <function <lambda> at 0x7ff8c776f950>, 'getMinutes': <function <lambda> at 0x7ff8c776f9e0>, 'getSeconds': <function <lambda> at 0x7ff8c776fa70>, 'bool': <class 'celpy.celtypes.BoolType'>, 'bytes': <class 'celpy.celtypes.BytesType'>, 'double': <class 'celpy.celtypes.DoubleType'>, 'duration': <class 'celpy.celtypes.DurationType'>, 'int': <class 'celpy.celtypes.IntType'>, 'list': <class 'celpy.celtypes.ListType'>, 'map': <class 'celpy.celtypes.MapType'>, 'null_type': <class 'NoneType'>, 'string': <class 'celpy.celtypes.StringType'>, 'timestamp': <class 'celpy.celtypes.TimestampType'>, 'uint': <class 'celpy.celtypes.UintType'>, 'type': <class 'type'>})\n",
      "INFO:Evaluator:Tree(expr, [Tree(conditionalor, [Tree(conditionaland, [Tree(conditionaland, [Tree(conditionaland, [Tree(relation, [Tree(relation_lt, [Tree(relation, [Tree(addition, [Tree(multiplication, [Tree(unary, [Tree(member, [Tree(member_dot, [Tree(member, [Tree(primary, [Tree(ident, [Token(IDENT, 'resource')])])]), Token(IDENT, 'creationTimestamp')])])])])])])]), Tree(addition, [Tree(multiplication, [Tree(unary, [Tree(member, [Tree(primary, [Tree(ident_arg, [Token(IDENT, 'timestamp'), Tree(exprlist, [Tree(expr, [Tree(conditionalor, [Tree(conditionaland, [Tree(relation, [Tree(addition, [Tree(multiplication, [Tree(unary, [Tree(member, [Tree(primary, [Tree(literal, [Token(STRING_LIT, '\"2018-08-03T16:00:00-07:00\"')])])])])])])])])])])])])])])])])])])]), Tree(relation, [Tree(relation_eq, [Tree(relation, [Tree(addition, [Tree(multiplication, [Tree(unary, [Tree(member, [Tree(member_dot, [Tree(member, [Tree(primary, [Tree(ident, [Token(IDENT, 'resource')])])]), Token(IDENT, 'deleteProtection')])])])])])])]), Tree(addition, [Tree(multiplication, [Tree(unary, [Tree(member, [Tree(primary, [Tree(literal, [Token(BOOL_LIT, 'false')])])])])])])])]), Tree(relation, [Tree(addition, [Tree(multiplication, [Tree(unary, [Tree(member, [Tree(primary, [Tree(paren_expr, [Tree(expr, [Tree(conditionalor, [Tree(conditionaland, [Tree(conditionaland, [Tree(relation, [Tree(addition, [Tree(multiplication, [Tree(unary, [Tree(member, [Tree(primary, [Tree(paren_expr, [Tree(expr, [Tree(conditionalor, [Tree(conditionalor, [Tree(conditionaland, [Tree(relation, [Tree(addition, [Tree(multiplication, [Tree(unary, [Tree(member, [Tree(member_dot_arg, [Tree(member, [Tree(member_dot, [Tree(member, [Tree(primary, [Tree(ident, [Token(IDENT, 'resource')])])]), Token(IDENT, 'name')])]), Token(IDENT, 'startsWith'), Tree(exprlist, [Tree(expr, [Tree(conditionalor, [Tree(conditionaland, [Tree(relation, [Tree(addition, [Tree(multiplication, [Tree(unary, [Tree(member, [Tree(primary, [Tree(literal, [Token(STRING_LIT, '\"projects/project-123/zones/us-east1-b/instances/dev\"')])])])])])])])])])])])])])])])])])])]), Tree(conditionaland, [Tree(relation, [Tree(addition, [Tree(multiplication, [Tree(unary, [Tree(member, [Tree(primary, [Tree(paren_expr, [Tree(expr, [Tree(conditionalor, [Tree(conditionaland, [Tree(relation, [Tree(addition, [Tree(multiplication, [Tree(unary, [Tree(member, [Tree(member_dot_arg, [Tree(member, [Tree(member_dot, [Tree(member, [Tree(primary, [Tree(ident, [Token(IDENT, 'resource')])])]), Token(IDENT, 'name')])]), Token(IDENT, 'startsWith'), Tree(exprlist, [Tree(expr, [Tree(conditionalor, [Tree(conditionaland, [Tree(relation, [Tree(addition, [Tree(multiplication, [Tree(unary, [Tree(member, [Tree(primary, [Tree(literal, [Token(STRING_LIT, '\"projects/project-123/zones/us-east1-b/instances/prod\"')])])])])])])])])])])])])])])])])])])])])])])])])])])])])])])])])])])])])])]), Tree(relation, [Tree(relation_eq, [Tree(relation, [Tree(addition, [Tree(multiplication, [Tree(unary, [Tree(member, [Tree(member_dot, [Tree(member, [Tree(primary, [Tree(ident, [Token(IDENT, 'resource')])])]), Token(IDENT, 'instanceSize')])])])])])])]), Tree(addition, [Tree(multiplication, [Tree(unary, [Tree(member, [Tree(primary, [Tree(literal, [Token(STRING_LIT, '\"m1.standard\"')])])])])])])])])])])])])])])])])])])])])\n",
      "INFO:Evaluator:  Tree(conditionalor, [Tree(conditionaland, [Tree(conditionaland, [Tree(conditionaland, [Tree(relation, [Tree(relation_lt, [Tree(relation, [Tree(addition, [Tree(multiplication, [Tree(unary, [Tree(member, [Tree(member_dot, [Tree(member, [Tree(primary, [Tree(ident, [Token(IDENT, 'resource')])])]), Token(IDENT, 'creationTimestamp')])])])])])])]), Tree(addition, [Tree(multiplication, [Tree(unary, [Tree(member, [Tree(primary, [Tree(ident_arg, [Token(IDENT, 'timestamp'), Tree(exprlist, [Tree(expr, [Tree(conditionalor, [Tree(conditionaland, [Tree(relation, [Tree(addition, [Tree(multiplication, [Tree(unary, [Tree(member, [Tree(primary, [Tree(literal, [Token(STRING_LIT, '\"2018-08-03T16:00:00-07:00\"')])])])])])])])])])])])])])])])])])])]), Tree(relation, [Tree(relation_eq, [Tree(relation, [Tree(addition, [Tree(multiplication, [Tree(unary, [Tree(member, [Tree(member_dot, [Tree(member, [Tree(primary, [Tree(ident, [Token(IDENT, 'resource')])])]), Token(IDENT, 'deleteProtection')])])])])])])]), Tree(addition, [Tree(multiplication, [Tree(unary, [Tree(member, [Tree(primary, [Tree(literal, [Token(BOOL_LIT, 'false')])])])])])])])]), Tree(relation, [Tree(addition, [Tree(multiplication, [Tree(unary, [Tree(member, [Tree(primary, [Tree(paren_expr, [Tree(expr, [Tree(conditionalor, [Tree(conditionaland, [Tree(conditionaland, [Tree(relation, [Tree(addition, [Tree(multiplication, [Tree(unary, [Tree(member, [Tree(primary, [Tree(paren_expr, [Tree(expr, [Tree(conditionalor, [Tree(conditionalor, [Tree(conditionaland, [Tree(relation, [Tree(addition, [Tree(multiplication, [Tree(unary, [Tree(member, [Tree(member_dot_arg, [Tree(member, [Tree(member_dot, [Tree(member, [Tree(primary, [Tree(ident, [Token(IDENT, 'resource')])])]), Token(IDENT, 'name')])]), Token(IDENT, 'startsWith'), Tree(exprlist, [Tree(expr, [Tree(conditionalor, [Tree(conditionaland, [Tree(relation, [Tree(addition, [Tree(multiplication, [Tree(unary, [Tree(member, [Tree(primary, [Tree(literal, [Token(STRING_LIT, '\"projects/project-123/zones/us-east1-b/instances/dev\"')])])])])])])])])])])])])])])])])])])]), Tree(conditionaland, [Tree(relation, [Tree(addition, [Tree(multiplication, [Tree(unary, [Tree(member, [Tree(primary, [Tree(paren_expr, [Tree(expr, [Tree(conditionalor, [Tree(conditionaland, [Tree(relation, [Tree(addition, [Tree(multiplication, [Tree(unary, [Tree(member, [Tree(member_dot_arg, [Tree(member, [Tree(member_dot, [Tree(member, [Tree(primary, [Tree(ident, [Token(IDENT, 'resource')])])]), Token(IDENT, 'name')])]), Token(IDENT, 'startsWith'), Tree(exprlist, [Tree(expr, [Tree(conditionalor, [Tree(conditionaland, [Tree(relation, [Tree(addition, [Tree(multiplication, [Tree(unary, [Tree(member, [Tree(primary, [Tree(literal, [Token(STRING_LIT, '\"projects/project-123/zones/us-east1-b/instances/prod\"')])])])])])])])])])])])])])])])])])])])])])])])])])])])])])])])])])])])])])]), Tree(relation, [Tree(relation_eq, [Tree(relation, [Tree(addition, [Tree(multiplication, [Tree(unary, [Tree(member, [Tree(member_dot, [Tree(member, [Tree(primary, [Tree(ident, [Token(IDENT, 'resource')])])]), Token(IDENT, 'instanceSize')])])])])])])]), Tree(addition, [Tree(multiplication, [Tree(unary, [Tree(member, [Tree(primary, [Tree(literal, [Token(STRING_LIT, '\"m1.standard\"')])])])])])])])])])])])])])])])])])])])\n",
      "INFO:Evaluator:    Tree(conditionaland, [Tree(conditionaland, [Tree(conditionaland, [Tree(relation, [Tree(relation_lt, [Tree(relation, [Tree(addition, [Tree(multiplication, [Tree(unary, [Tree(member, [Tree(member_dot, [Tree(member, [Tree(primary, [Tree(ident, [Token(IDENT, 'resource')])])]), Token(IDENT, 'creationTimestamp')])])])])])])]), Tree(addition, [Tree(multiplication, [Tree(unary, [Tree(member, [Tree(primary, [Tree(ident_arg, [Token(IDENT, 'timestamp'), Tree(exprlist, [Tree(expr, [Tree(conditionalor, [Tree(conditionaland, [Tree(relation, [Tree(addition, [Tree(multiplication, [Tree(unary, [Tree(member, [Tree(primary, [Tree(literal, [Token(STRING_LIT, '\"2018-08-03T16:00:00-07:00\"')])])])])])])])])])])])])])])])])])])]), Tree(relation, [Tree(relation_eq, [Tree(relation, [Tree(addition, [Tree(multiplication, [Tree(unary, [Tree(member, [Tree(member_dot, [Tree(member, [Tree(primary, [Tree(ident, [Token(IDENT, 'resource')])])]), Token(IDENT, 'deleteProtection')])])])])])])]), Tree(addition, [Tree(multiplication, [Tree(unary, [Tree(member, [Tree(primary, [Tree(literal, [Token(BOOL_LIT, 'false')])])])])])])])]), Tree(relation, [Tree(addition, [Tree(multiplication, [Tree(unary, [Tree(member, [Tree(primary, [Tree(paren_expr, [Tree(expr, [Tree(conditionalor, [Tree(conditionaland, [Tree(conditionaland, [Tree(relation, [Tree(addition, [Tree(multiplication, [Tree(unary, [Tree(member, [Tree(primary, [Tree(paren_expr, [Tree(expr, [Tree(conditionalor, [Tree(conditionalor, [Tree(conditionaland, [Tree(relation, [Tree(addition, [Tree(multiplication, [Tree(unary, [Tree(member, [Tree(member_dot_arg, [Tree(member, [Tree(member_dot, [Tree(member, [Tree(primary, [Tree(ident, [Token(IDENT, 'resource')])])]), Token(IDENT, 'name')])]), Token(IDENT, 'startsWith'), Tree(exprlist, [Tree(expr, [Tree(conditionalor, [Tree(conditionaland, [Tree(relation, [Tree(addition, [Tree(multiplication, [Tree(unary, [Tree(member, [Tree(primary, [Tree(literal, [Token(STRING_LIT, '\"projects/project-123/zones/us-east1-b/instances/dev\"')])])])])])])])])])])])])])])])])])])]), Tree(conditionaland, [Tree(relation, [Tree(addition, [Tree(multiplication, [Tree(unary, [Tree(member, [Tree(primary, [Tree(paren_expr, [Tree(expr, [Tree(conditionalor, [Tree(conditionaland, [Tree(relation, [Tree(addition, [Tree(multiplication, [Tree(unary, [Tree(member, [Tree(member_dot_arg, [Tree(member, [Tree(member_dot, [Tree(member, [Tree(primary, [Tree(ident, [Token(IDENT, 'resource')])])]), Token(IDENT, 'name')])]), Token(IDENT, 'startsWith'), Tree(exprlist, [Tree(expr, [Tree(conditionalor, [Tree(conditionaland, [Tree(relation, [Tree(addition, [Tree(multiplication, [Tree(unary, [Tree(member, [Tree(primary, [Tree(literal, [Token(STRING_LIT, '\"projects/project-123/zones/us-east1-b/instances/prod\"')])])])])])])])])])])])])])])])])])])])])])])])])])])])])])])])])])])])])])]), Tree(relation, [Tree(relation_eq, [Tree(relation, [Tree(addition, [Tree(multiplication, [Tree(unary, [Tree(member, [Tree(member_dot, [Tree(member, [Tree(primary, [Tree(ident, [Token(IDENT, 'resource')])])]), Token(IDENT, 'instanceSize')])])])])])])]), Tree(addition, [Tree(multiplication, [Tree(unary, [Tree(member, [Tree(primary, [Tree(literal, [Token(STRING_LIT, '\"m1.standard\"')])])])])])])])])])])])])])])])])])])\n",
      "INFO:Evaluator:      Tree(conditionaland, [Tree(conditionaland, [Tree(relation, [Tree(relation_lt, [Tree(relation, [Tree(addition, [Tree(multiplication, [Tree(unary, [Tree(member, [Tree(member_dot, [Tree(member, [Tree(primary, [Tree(ident, [Token(IDENT, 'resource')])])]), Token(IDENT, 'creationTimestamp')])])])])])])]), Tree(addition, [Tree(multiplication, [Tree(unary, [Tree(member, [Tree(primary, [Tree(ident_arg, [Token(IDENT, 'timestamp'), Tree(exprlist, [Tree(expr, [Tree(conditionalor, [Tree(conditionaland, [Tree(relation, [Tree(addition, [Tree(multiplication, [Tree(unary, [Tree(member, [Tree(primary, [Tree(literal, [Token(STRING_LIT, '\"2018-08-03T16:00:00-07:00\"')])])])])])])])])])])])])])])])])])])]), Tree(relation, [Tree(relation_eq, [Tree(relation, [Tree(addition, [Tree(multiplication, [Tree(unary, [Tree(member, [Tree(member_dot, [Tree(member, [Tree(primary, [Tree(ident, [Token(IDENT, 'resource')])])]), Token(IDENT, 'deleteProtection')])])])])])])]), Tree(addition, [Tree(multiplication, [Tree(unary, [Tree(member, [Tree(primary, [Tree(literal, [Token(BOOL_LIT, 'false')])])])])])])])])\n",
      "INFO:Evaluator:        Tree(conditionaland, [Tree(relation, [Tree(relation_lt, [Tree(relation, [Tree(addition, [Tree(multiplication, [Tree(unary, [Tree(member, [Tree(member_dot, [Tree(member, [Tree(primary, [Tree(ident, [Token(IDENT, 'resource')])])]), Token(IDENT, 'creationTimestamp')])])])])])])]), Tree(addition, [Tree(multiplication, [Tree(unary, [Tree(member, [Tree(primary, [Tree(ident_arg, [Token(IDENT, 'timestamp'), Tree(exprlist, [Tree(expr, [Tree(conditionalor, [Tree(conditionaland, [Tree(relation, [Tree(addition, [Tree(multiplication, [Tree(unary, [Tree(member, [Tree(primary, [Tree(literal, [Token(STRING_LIT, '\"2018-08-03T16:00:00-07:00\"')])])])])])])])])])])])])])])])])])])])\n",
      "INFO:Evaluator:          Tree(relation, [Tree(relation_lt, [Tree(relation, [Tree(addition, [Tree(multiplication, [Tree(unary, [Tree(member, [Tree(member_dot, [Tree(member, [Tree(primary, [Tree(ident, [Token(IDENT, 'resource')])])]), Token(IDENT, 'creationTimestamp')])])])])])])]), Tree(addition, [Tree(multiplication, [Tree(unary, [Tree(member, [Tree(primary, [Tree(ident_arg, [Token(IDENT, 'timestamp'), Tree(exprlist, [Tree(expr, [Tree(conditionalor, [Tree(conditionaland, [Tree(relation, [Tree(addition, [Tree(multiplication, [Tree(unary, [Tree(member, [Tree(primary, [Tree(literal, [Token(STRING_LIT, '\"2018-08-03T16:00:00-07:00\"')])])])])])])])])])])])])])])])])])])\n",
      "INFO:Evaluator:              Tree(relation, [Tree(addition, [Tree(multiplication, [Tree(unary, [Tree(member, [Tree(member_dot, [Tree(member, [Tree(primary, [Tree(ident, [Token(IDENT, 'resource')])])]), Token(IDENT, 'creationTimestamp')])])])])])])\n",
      "INFO:Evaluator:                Tree(addition, [Tree(multiplication, [Tree(unary, [Tree(member, [Tree(member_dot, [Tree(member, [Tree(primary, [Tree(ident, [Token(IDENT, 'resource')])])]), Token(IDENT, 'creationTimestamp')])])])])])\n",
      "INFO:Evaluator:                  Tree(multiplication, [Tree(unary, [Tree(member, [Tree(member_dot, [Tree(member, [Tree(primary, [Tree(ident, [Token(IDENT, 'resource')])])]), Token(IDENT, 'creationTimestamp')])])])])\n",
      "INFO:Evaluator:                    Tree(unary, [Tree(member, [Tree(member_dot, [Tree(member, [Tree(primary, [Tree(ident, [Token(IDENT, 'resource')])])]), Token(IDENT, 'creationTimestamp')])])])\n",
      "INFO:Evaluator:                      Tree(member, [Tree(member_dot, [Tree(member, [Tree(primary, [Tree(ident, [Token(IDENT, 'resource')])])]), Token(IDENT, 'creationTimestamp')])])\n",
      "INFO:Evaluator:                        Tree(member_dot, [Tree(member, [Tree(primary, [Tree(ident, [Token(IDENT, 'resource')])])]), Token(IDENT, 'creationTimestamp')])\n",
      "INFO:Evaluator:                        Tree(member, [Tree(primary, [Tree(ident, [Token(IDENT, 'resource')])])])\n",
      "INFO:Evaluator:                          Tree(primary, [Tree(ident, [Token(IDENT, 'resource')])])\n",
      "INFO:evaluation:resolve_name(None.'resource') in dict_keys(['resource'])\n",
      "INFO:Evaluator:                          primary -> MapType({StringType('creationTimestamp'): StringType('2018-07-06T05:04:03Z'), StringType('deleteProtection'): BoolType(False), StringType('name'): StringType('projects/project-123/zones/us-east1-b/instances/dev/ec2'), StringType('instanceSize'): StringType('m1.standard')})\n",
      "INFO:Evaluator:                        member -> MapType({StringType('creationTimestamp'): StringType('2018-07-06T05:04:03Z'), StringType('deleteProtection'): BoolType(False), StringType('name'): StringType('projects/project-123/zones/us-east1-b/instances/dev/ec2'), StringType('instanceSize'): StringType('m1.standard')})\n",
      "INFO:Evaluator:                        member_dot -> StringType('2018-07-06T05:04:03Z')\n",
      "INFO:Evaluator:                      member -> StringType('2018-07-06T05:04:03Z')\n",
      "INFO:Evaluator:                    unary -> StringType('2018-07-06T05:04:03Z')\n",
      "INFO:Evaluator:                  multiplication -> StringType('2018-07-06T05:04:03Z')\n",
      "INFO:Evaluator:                addition -> StringType('2018-07-06T05:04:03Z')\n",
      "INFO:Evaluator:              relation -> StringType('2018-07-06T05:04:03Z')\n",
      "INFO:Evaluator:            Tree(addition, [Tree(multiplication, [Tree(unary, [Tree(member, [Tree(primary, [Tree(ident_arg, [Token(IDENT, 'timestamp'), Tree(exprlist, [Tree(expr, [Tree(conditionalor, [Tree(conditionaland, [Tree(relation, [Tree(addition, [Tree(multiplication, [Tree(unary, [Tree(member, [Tree(primary, [Tree(literal, [Token(STRING_LIT, '\"2018-08-03T16:00:00-07:00\"')])])])])])])])])])])])])])])])])])\n",
      "INFO:Evaluator:              Tree(multiplication, [Tree(unary, [Tree(member, [Tree(primary, [Tree(ident_arg, [Token(IDENT, 'timestamp'), Tree(exprlist, [Tree(expr, [Tree(conditionalor, [Tree(conditionaland, [Tree(relation, [Tree(addition, [Tree(multiplication, [Tree(unary, [Tree(member, [Tree(primary, [Tree(literal, [Token(STRING_LIT, '\"2018-08-03T16:00:00-07:00\"')])])])])])])])])])])])])])])])])\n",
      "INFO:Evaluator:                Tree(unary, [Tree(member, [Tree(primary, [Tree(ident_arg, [Token(IDENT, 'timestamp'), Tree(exprlist, [Tree(expr, [Tree(conditionalor, [Tree(conditionaland, [Tree(relation, [Tree(addition, [Tree(multiplication, [Tree(unary, [Tree(member, [Tree(primary, [Tree(literal, [Token(STRING_LIT, '\"2018-08-03T16:00:00-07:00\"')])])])])])])])])])])])])])])])\n",
      "INFO:Evaluator:                  Tree(member, [Tree(primary, [Tree(ident_arg, [Token(IDENT, 'timestamp'), Tree(exprlist, [Tree(expr, [Tree(conditionalor, [Tree(conditionaland, [Tree(relation, [Tree(addition, [Tree(multiplication, [Tree(unary, [Tree(member, [Tree(primary, [Tree(literal, [Token(STRING_LIT, '\"2018-08-03T16:00:00-07:00\"')])])])])])])])])])])])])])])\n",
      "INFO:Evaluator:                    Tree(primary, [Tree(ident_arg, [Token(IDENT, 'timestamp'), Tree(exprlist, [Tree(expr, [Tree(conditionalor, [Tree(conditionaland, [Tree(relation, [Tree(addition, [Tree(multiplication, [Tree(unary, [Tree(member, [Tree(primary, [Tree(literal, [Token(STRING_LIT, '\"2018-08-03T16:00:00-07:00\"')])])])])])])])])])])])])])\n",
      "INFO:Evaluator:                      Tree(expr, [Tree(conditionalor, [Tree(conditionaland, [Tree(relation, [Tree(addition, [Tree(multiplication, [Tree(unary, [Tree(member, [Tree(primary, [Tree(literal, [Token(STRING_LIT, '\"2018-08-03T16:00:00-07:00\"')])])])])])])])])])])\n",
      "INFO:Evaluator:                        Tree(conditionalor, [Tree(conditionaland, [Tree(relation, [Tree(addition, [Tree(multiplication, [Tree(unary, [Tree(member, [Tree(primary, [Tree(literal, [Token(STRING_LIT, '\"2018-08-03T16:00:00-07:00\"')])])])])])])])])])\n",
      "INFO:Evaluator:                          Tree(conditionaland, [Tree(relation, [Tree(addition, [Tree(multiplication, [Tree(unary, [Tree(member, [Tree(primary, [Tree(literal, [Token(STRING_LIT, '\"2018-08-03T16:00:00-07:00\"')])])])])])])])])\n",
      "INFO:Evaluator:                            Tree(relation, [Tree(addition, [Tree(multiplication, [Tree(unary, [Tree(member, [Tree(primary, [Tree(literal, [Token(STRING_LIT, '\"2018-08-03T16:00:00-07:00\"')])])])])])])])\n",
      "INFO:Evaluator:                              Tree(addition, [Tree(multiplication, [Tree(unary, [Tree(member, [Tree(primary, [Tree(literal, [Token(STRING_LIT, '\"2018-08-03T16:00:00-07:00\"')])])])])])])\n",
      "INFO:Evaluator:                                Tree(multiplication, [Tree(unary, [Tree(member, [Tree(primary, [Tree(literal, [Token(STRING_LIT, '\"2018-08-03T16:00:00-07:00\"')])])])])])\n",
      "INFO:Evaluator:                                  Tree(unary, [Tree(member, [Tree(primary, [Tree(literal, [Token(STRING_LIT, '\"2018-08-03T16:00:00-07:00\"')])])])])\n",
      "INFO:Evaluator:                                    Tree(member, [Tree(primary, [Tree(literal, [Token(STRING_LIT, '\"2018-08-03T16:00:00-07:00\"')])])])\n",
      "INFO:Evaluator:                                      Tree(primary, [Tree(literal, [Token(STRING_LIT, '\"2018-08-03T16:00:00-07:00\"')])])\n",
      "INFO:Evaluator:                                        Tree(literal, [Token(STRING_LIT, '\"2018-08-03T16:00:00-07:00\"')])\n",
      "INFO:Evaluator:                                        literal -> StringType('2018-08-03T16:00:00-07:00')\n",
      "INFO:Evaluator:                                      primary -> StringType('2018-08-03T16:00:00-07:00')\n",
      "INFO:Evaluator:                                    member -> StringType('2018-08-03T16:00:00-07:00')\n",
      "INFO:Evaluator:                                  unary -> StringType('2018-08-03T16:00:00-07:00')\n",
      "INFO:Evaluator:                                multiplication -> StringType('2018-08-03T16:00:00-07:00')\n",
      "INFO:Evaluator:                              addition -> StringType('2018-08-03T16:00:00-07:00')\n",
      "INFO:Evaluator:                            relation -> StringType('2018-08-03T16:00:00-07:00')\n",
      "INFO:Evaluator:                          conditionaland -> StringType('2018-08-03T16:00:00-07:00')\n",
      "INFO:Evaluator:                        conditionalor -> StringType('2018-08-03T16:00:00-07:00')\n",
      "INFO:Evaluator:                      expr -> StringType('2018-08-03T16:00:00-07:00')\n",
      "INFO:Evaluator:                    primary -> TimestampType('2018-08-03T16:00:00Z')\n",
      "INFO:Evaluator:                  member -> TimestampType('2018-08-03T16:00:00Z')\n",
      "INFO:Evaluator:                unary -> TimestampType('2018-08-03T16:00:00Z')\n",
      "INFO:Evaluator:              multiplication -> TimestampType('2018-08-03T16:00:00Z')\n",
      "INFO:Evaluator:            addition -> TimestampType('2018-08-03T16:00:00Z')\n",
      "INFO:Evaluator:          relation -> CELEvalError(\"found no matching overload for 'relation_lt' applied to '(<class 'celpy.celtypes.StringType'>, <class 'celpy.celtypes.TimestampType'>)'\", <class 'TypeError'>, (\"'<' not supported between instances of 'StringType' and 'TimestampType'\",))\n",
      "INFO:Evaluator:        conditionaland -> CELEvalError(\"found no matching overload for 'relation_lt' applied to '(<class 'celpy.celtypes.StringType'>, <class 'celpy.celtypes.TimestampType'>)'\", <class 'TypeError'>, (\"'<' not supported between instances of 'StringType' and 'TimestampType'\",))\n",
      "INFO:Evaluator:        Tree(relation, [Tree(relation_eq, [Tree(relation, [Tree(addition, [Tree(multiplication, [Tree(unary, [Tree(member, [Tree(member_dot, [Tree(member, [Tree(primary, [Tree(ident, [Token(IDENT, 'resource')])])]), Token(IDENT, 'deleteProtection')])])])])])])]), Tree(addition, [Tree(multiplication, [Tree(unary, [Tree(member, [Tree(primary, [Tree(literal, [Token(BOOL_LIT, 'false')])])])])])])])\n",
      "INFO:Evaluator:            Tree(relation, [Tree(addition, [Tree(multiplication, [Tree(unary, [Tree(member, [Tree(member_dot, [Tree(member, [Tree(primary, [Tree(ident, [Token(IDENT, 'resource')])])]), Token(IDENT, 'deleteProtection')])])])])])])\n",
      "INFO:Evaluator:              Tree(addition, [Tree(multiplication, [Tree(unary, [Tree(member, [Tree(member_dot, [Tree(member, [Tree(primary, [Tree(ident, [Token(IDENT, 'resource')])])]), Token(IDENT, 'deleteProtection')])])])])])\n",
      "INFO:Evaluator:                Tree(multiplication, [Tree(unary, [Tree(member, [Tree(member_dot, [Tree(member, [Tree(primary, [Tree(ident, [Token(IDENT, 'resource')])])]), Token(IDENT, 'deleteProtection')])])])])\n",
      "INFO:Evaluator:                  Tree(unary, [Tree(member, [Tree(member_dot, [Tree(member, [Tree(primary, [Tree(ident, [Token(IDENT, 'resource')])])]), Token(IDENT, 'deleteProtection')])])])\n",
      "INFO:Evaluator:                    Tree(member, [Tree(member_dot, [Tree(member, [Tree(primary, [Tree(ident, [Token(IDENT, 'resource')])])]), Token(IDENT, 'deleteProtection')])])\n",
      "INFO:Evaluator:                      Tree(member_dot, [Tree(member, [Tree(primary, [Tree(ident, [Token(IDENT, 'resource')])])]), Token(IDENT, 'deleteProtection')])\n",
      "INFO:Evaluator:                      Tree(member, [Tree(primary, [Tree(ident, [Token(IDENT, 'resource')])])])\n",
      "INFO:Evaluator:                        Tree(primary, [Tree(ident, [Token(IDENT, 'resource')])])\n",
      "INFO:evaluation:resolve_name(None.'resource') in dict_keys(['resource'])\n",
      "INFO:Evaluator:                        primary -> MapType({StringType('creationTimestamp'): StringType('2018-07-06T05:04:03Z'), StringType('deleteProtection'): BoolType(False), StringType('name'): StringType('projects/project-123/zones/us-east1-b/instances/dev/ec2'), StringType('instanceSize'): StringType('m1.standard')})\n",
      "INFO:Evaluator:                      member -> MapType({StringType('creationTimestamp'): StringType('2018-07-06T05:04:03Z'), StringType('deleteProtection'): BoolType(False), StringType('name'): StringType('projects/project-123/zones/us-east1-b/instances/dev/ec2'), StringType('instanceSize'): StringType('m1.standard')})\n",
      "INFO:Evaluator:                      member_dot -> BoolType(False)\n",
      "INFO:Evaluator:                    member -> BoolType(False)\n",
      "INFO:Evaluator:                  unary -> BoolType(False)\n",
      "INFO:Evaluator:                multiplication -> BoolType(False)\n",
      "INFO:Evaluator:              addition -> BoolType(False)\n",
      "INFO:Evaluator:            relation -> BoolType(False)\n",
      "INFO:Evaluator:          Tree(addition, [Tree(multiplication, [Tree(unary, [Tree(member, [Tree(primary, [Tree(literal, [Token(BOOL_LIT, 'false')])])])])])])\n",
      "INFO:Evaluator:            Tree(multiplication, [Tree(unary, [Tree(member, [Tree(primary, [Tree(literal, [Token(BOOL_LIT, 'false')])])])])])\n",
      "INFO:Evaluator:              Tree(unary, [Tree(member, [Tree(primary, [Tree(literal, [Token(BOOL_LIT, 'false')])])])])\n",
      "INFO:Evaluator:                Tree(member, [Tree(primary, [Tree(literal, [Token(BOOL_LIT, 'false')])])])\n",
      "INFO:Evaluator:                  Tree(primary, [Tree(literal, [Token(BOOL_LIT, 'false')])])\n",
      "INFO:Evaluator:                    Tree(literal, [Token(BOOL_LIT, 'false')])\n",
      "INFO:Evaluator:                    literal -> BoolType(False)\n",
      "INFO:Evaluator:                  primary -> BoolType(False)\n",
      "INFO:Evaluator:                member -> BoolType(False)\n",
      "INFO:Evaluator:              unary -> BoolType(False)\n",
      "INFO:Evaluator:            multiplication -> BoolType(False)\n",
      "INFO:Evaluator:          addition -> BoolType(False)\n",
      "INFO:Evaluator:        relation -> BoolType(True)\n",
      "INFO:Evaluator:      conditionaland -> CELEvalError(\"found no matching overload for 'relation_lt' applied to '(<class 'celpy.celtypes.StringType'>, <class 'celpy.celtypes.TimestampType'>)'\", <class 'TypeError'>, (\"'<' not supported between instances of 'StringType' and 'TimestampType'\",))\n",
      "INFO:Evaluator:      Tree(relation, [Tree(addition, [Tree(multiplication, [Tree(unary, [Tree(member, [Tree(primary, [Tree(paren_expr, [Tree(expr, [Tree(conditionalor, [Tree(conditionaland, [Tree(conditionaland, [Tree(relation, [Tree(addition, [Tree(multiplication, [Tree(unary, [Tree(member, [Tree(primary, [Tree(paren_expr, [Tree(expr, [Tree(conditionalor, [Tree(conditionalor, [Tree(conditionaland, [Tree(relation, [Tree(addition, [Tree(multiplication, [Tree(unary, [Tree(member, [Tree(member_dot_arg, [Tree(member, [Tree(member_dot, [Tree(member, [Tree(primary, [Tree(ident, [Token(IDENT, 'resource')])])]), Token(IDENT, 'name')])]), Token(IDENT, 'startsWith'), Tree(exprlist, [Tree(expr, [Tree(conditionalor, [Tree(conditionaland, [Tree(relation, [Tree(addition, [Tree(multiplication, [Tree(unary, [Tree(member, [Tree(primary, [Tree(literal, [Token(STRING_LIT, '\"projects/project-123/zones/us-east1-b/instances/dev\"')])])])])])])])])])])])])])])])])])])]), Tree(conditionaland, [Tree(relation, [Tree(addition, [Tree(multiplication, [Tree(unary, [Tree(member, [Tree(primary, [Tree(paren_expr, [Tree(expr, [Tree(conditionalor, [Tree(conditionaland, [Tree(relation, [Tree(addition, [Tree(multiplication, [Tree(unary, [Tree(member, [Tree(member_dot_arg, [Tree(member, [Tree(member_dot, [Tree(member, [Tree(primary, [Tree(ident, [Token(IDENT, 'resource')])])]), Token(IDENT, 'name')])]), Token(IDENT, 'startsWith'), Tree(exprlist, [Tree(expr, [Tree(conditionalor, [Tree(conditionaland, [Tree(relation, [Tree(addition, [Tree(multiplication, [Tree(unary, [Tree(member, [Tree(primary, [Tree(literal, [Token(STRING_LIT, '\"projects/project-123/zones/us-east1-b/instances/prod\"')])])])])])])])])])])])])])])])])])])])])])])])])])])])])])])])])])])])])])]), Tree(relation, [Tree(relation_eq, [Tree(relation, [Tree(addition, [Tree(multiplication, [Tree(unary, [Tree(member, [Tree(member_dot, [Tree(member, [Tree(primary, [Tree(ident, [Token(IDENT, 'resource')])])]), Token(IDENT, 'instanceSize')])])])])])])]), Tree(addition, [Tree(multiplication, [Tree(unary, [Tree(member, [Tree(primary, [Tree(literal, [Token(STRING_LIT, '\"m1.standard\"')])])])])])])])])])])])])])])])])])\n",
      "INFO:Evaluator:        Tree(addition, [Tree(multiplication, [Tree(unary, [Tree(member, [Tree(primary, [Tree(paren_expr, [Tree(expr, [Tree(conditionalor, [Tree(conditionaland, [Tree(conditionaland, [Tree(relation, [Tree(addition, [Tree(multiplication, [Tree(unary, [Tree(member, [Tree(primary, [Tree(paren_expr, [Tree(expr, [Tree(conditionalor, [Tree(conditionalor, [Tree(conditionaland, [Tree(relation, [Tree(addition, [Tree(multiplication, [Tree(unary, [Tree(member, [Tree(member_dot_arg, [Tree(member, [Tree(member_dot, [Tree(member, [Tree(primary, [Tree(ident, [Token(IDENT, 'resource')])])]), Token(IDENT, 'name')])]), Token(IDENT, 'startsWith'), Tree(exprlist, [Tree(expr, [Tree(conditionalor, [Tree(conditionaland, [Tree(relation, [Tree(addition, [Tree(multiplication, [Tree(unary, [Tree(member, [Tree(primary, [Tree(literal, [Token(STRING_LIT, '\"projects/project-123/zones/us-east1-b/instances/dev\"')])])])])])])])])])])])])])])])])])])]), Tree(conditionaland, [Tree(relation, [Tree(addition, [Tree(multiplication, [Tree(unary, [Tree(member, [Tree(primary, [Tree(paren_expr, [Tree(expr, [Tree(conditionalor, [Tree(conditionaland, [Tree(relation, [Tree(addition, [Tree(multiplication, [Tree(unary, [Tree(member, [Tree(member_dot_arg, [Tree(member, [Tree(member_dot, [Tree(member, [Tree(primary, [Tree(ident, [Token(IDENT, 'resource')])])]), Token(IDENT, 'name')])]), Token(IDENT, 'startsWith'), Tree(exprlist, [Tree(expr, [Tree(conditionalor, [Tree(conditionaland, [Tree(relation, [Tree(addition, [Tree(multiplication, [Tree(unary, [Tree(member, [Tree(primary, [Tree(literal, [Token(STRING_LIT, '\"projects/project-123/zones/us-east1-b/instances/prod\"')])])])])])])])])])])])])])])])])])])])])])])])])])])])])])])])])])])])])])]), Tree(relation, [Tree(relation_eq, [Tree(relation, [Tree(addition, [Tree(multiplication, [Tree(unary, [Tree(member, [Tree(member_dot, [Tree(member, [Tree(primary, [Tree(ident, [Token(IDENT, 'resource')])])]), Token(IDENT, 'instanceSize')])])])])])])]), Tree(addition, [Tree(multiplication, [Tree(unary, [Tree(member, [Tree(primary, [Tree(literal, [Token(STRING_LIT, '\"m1.standard\"')])])])])])])])])])])])])])])])])\n",
      "INFO:Evaluator:          Tree(multiplication, [Tree(unary, [Tree(member, [Tree(primary, [Tree(paren_expr, [Tree(expr, [Tree(conditionalor, [Tree(conditionaland, [Tree(conditionaland, [Tree(relation, [Tree(addition, [Tree(multiplication, [Tree(unary, [Tree(member, [Tree(primary, [Tree(paren_expr, [Tree(expr, [Tree(conditionalor, [Tree(conditionalor, [Tree(conditionaland, [Tree(relation, [Tree(addition, [Tree(multiplication, [Tree(unary, [Tree(member, [Tree(member_dot_arg, [Tree(member, [Tree(member_dot, [Tree(member, [Tree(primary, [Tree(ident, [Token(IDENT, 'resource')])])]), Token(IDENT, 'name')])]), Token(IDENT, 'startsWith'), Tree(exprlist, [Tree(expr, [Tree(conditionalor, [Tree(conditionaland, [Tree(relation, [Tree(addition, [Tree(multiplication, [Tree(unary, [Tree(member, [Tree(primary, [Tree(literal, [Token(STRING_LIT, '\"projects/project-123/zones/us-east1-b/instances/dev\"')])])])])])])])])])])])])])])])])])])]), Tree(conditionaland, [Tree(relation, [Tree(addition, [Tree(multiplication, [Tree(unary, [Tree(member, [Tree(primary, [Tree(paren_expr, [Tree(expr, [Tree(conditionalor, [Tree(conditionaland, [Tree(relation, [Tree(addition, [Tree(multiplication, [Tree(unary, [Tree(member, [Tree(member_dot_arg, [Tree(member, [Tree(member_dot, [Tree(member, [Tree(primary, [Tree(ident, [Token(IDENT, 'resource')])])]), Token(IDENT, 'name')])]), Token(IDENT, 'startsWith'), Tree(exprlist, [Tree(expr, [Tree(conditionalor, [Tree(conditionaland, [Tree(relation, [Tree(addition, [Tree(multiplication, [Tree(unary, [Tree(member, [Tree(primary, [Tree(literal, [Token(STRING_LIT, '\"projects/project-123/zones/us-east1-b/instances/prod\"')])])])])])])])])])])])])])])])])])])])])])])])])])])])])])])])])])])])])])]), Tree(relation, [Tree(relation_eq, [Tree(relation, [Tree(addition, [Tree(multiplication, [Tree(unary, [Tree(member, [Tree(member_dot, [Tree(member, [Tree(primary, [Tree(ident, [Token(IDENT, 'resource')])])]), Token(IDENT, 'instanceSize')])])])])])])]), Tree(addition, [Tree(multiplication, [Tree(unary, [Tree(member, [Tree(primary, [Tree(literal, [Token(STRING_LIT, '\"m1.standard\"')])])])])])])])])])])])])])])])\n",
      "INFO:Evaluator:            Tree(unary, [Tree(member, [Tree(primary, [Tree(paren_expr, [Tree(expr, [Tree(conditionalor, [Tree(conditionaland, [Tree(conditionaland, [Tree(relation, [Tree(addition, [Tree(multiplication, [Tree(unary, [Tree(member, [Tree(primary, [Tree(paren_expr, [Tree(expr, [Tree(conditionalor, [Tree(conditionalor, [Tree(conditionaland, [Tree(relation, [Tree(addition, [Tree(multiplication, [Tree(unary, [Tree(member, [Tree(member_dot_arg, [Tree(member, [Tree(member_dot, [Tree(member, [Tree(primary, [Tree(ident, [Token(IDENT, 'resource')])])]), Token(IDENT, 'name')])]), Token(IDENT, 'startsWith'), Tree(exprlist, [Tree(expr, [Tree(conditionalor, [Tree(conditionaland, [Tree(relation, [Tree(addition, [Tree(multiplication, [Tree(unary, [Tree(member, [Tree(primary, [Tree(literal, [Token(STRING_LIT, '\"projects/project-123/zones/us-east1-b/instances/dev\"')])])])])])])])])])])])])])])])])])])]), Tree(conditionaland, [Tree(relation, [Tree(addition, [Tree(multiplication, [Tree(unary, [Tree(member, [Tree(primary, [Tree(paren_expr, [Tree(expr, [Tree(conditionalor, [Tree(conditionaland, [Tree(relation, [Tree(addition, [Tree(multiplication, [Tree(unary, [Tree(member, [Tree(member_dot_arg, [Tree(member, [Tree(member_dot, [Tree(member, [Tree(primary, [Tree(ident, [Token(IDENT, 'resource')])])]), Token(IDENT, 'name')])]), Token(IDENT, 'startsWith'), Tree(exprlist, [Tree(expr, [Tree(conditionalor, [Tree(conditionaland, [Tree(relation, [Tree(addition, [Tree(multiplication, [Tree(unary, [Tree(member, [Tree(primary, [Tree(literal, [Token(STRING_LIT, '\"projects/project-123/zones/us-east1-b/instances/prod\"')])])])])])])])])])])])])])])])])])])])])])])])])])])])])])])])])])])])])])]), Tree(relation, [Tree(relation_eq, [Tree(relation, [Tree(addition, [Tree(multiplication, [Tree(unary, [Tree(member, [Tree(member_dot, [Tree(member, [Tree(primary, [Tree(ident, [Token(IDENT, 'resource')])])]), Token(IDENT, 'instanceSize')])])])])])])]), Tree(addition, [Tree(multiplication, [Tree(unary, [Tree(member, [Tree(primary, [Tree(literal, [Token(STRING_LIT, '\"m1.standard\"')])])])])])])])])])])])])])])\n",
      "INFO:Evaluator:              Tree(member, [Tree(primary, [Tree(paren_expr, [Tree(expr, [Tree(conditionalor, [Tree(conditionaland, [Tree(conditionaland, [Tree(relation, [Tree(addition, [Tree(multiplication, [Tree(unary, [Tree(member, [Tree(primary, [Tree(paren_expr, [Tree(expr, [Tree(conditionalor, [Tree(conditionalor, [Tree(conditionaland, [Tree(relation, [Tree(addition, [Tree(multiplication, [Tree(unary, [Tree(member, [Tree(member_dot_arg, [Tree(member, [Tree(member_dot, [Tree(member, [Tree(primary, [Tree(ident, [Token(IDENT, 'resource')])])]), Token(IDENT, 'name')])]), Token(IDENT, 'startsWith'), Tree(exprlist, [Tree(expr, [Tree(conditionalor, [Tree(conditionaland, [Tree(relation, [Tree(addition, [Tree(multiplication, [Tree(unary, [Tree(member, [Tree(primary, [Tree(literal, [Token(STRING_LIT, '\"projects/project-123/zones/us-east1-b/instances/dev\"')])])])])])])])])])])])])])])])])])])]), Tree(conditionaland, [Tree(relation, [Tree(addition, [Tree(multiplication, [Tree(unary, [Tree(member, [Tree(primary, [Tree(paren_expr, [Tree(expr, [Tree(conditionalor, [Tree(conditionaland, [Tree(relation, [Tree(addition, [Tree(multiplication, [Tree(unary, [Tree(member, [Tree(member_dot_arg, [Tree(member, [Tree(member_dot, [Tree(member, [Tree(primary, [Tree(ident, [Token(IDENT, 'resource')])])]), Token(IDENT, 'name')])]), Token(IDENT, 'startsWith'), Tree(exprlist, [Tree(expr, [Tree(conditionalor, [Tree(conditionaland, [Tree(relation, [Tree(addition, [Tree(multiplication, [Tree(unary, [Tree(member, [Tree(primary, [Tree(literal, [Token(STRING_LIT, '\"projects/project-123/zones/us-east1-b/instances/prod\"')])])])])])])])])])])])])])])])])])])])])])])])])])])])])])])])])])])])])])]), Tree(relation, [Tree(relation_eq, [Tree(relation, [Tree(addition, [Tree(multiplication, [Tree(unary, [Tree(member, [Tree(member_dot, [Tree(member, [Tree(primary, [Tree(ident, [Token(IDENT, 'resource')])])]), Token(IDENT, 'instanceSize')])])])])])])]), Tree(addition, [Tree(multiplication, [Tree(unary, [Tree(member, [Tree(primary, [Tree(literal, [Token(STRING_LIT, '\"m1.standard\"')])])])])])])])])])])])])])\n",
      "INFO:Evaluator:                Tree(primary, [Tree(paren_expr, [Tree(expr, [Tree(conditionalor, [Tree(conditionaland, [Tree(conditionaland, [Tree(relation, [Tree(addition, [Tree(multiplication, [Tree(unary, [Tree(member, [Tree(primary, [Tree(paren_expr, [Tree(expr, [Tree(conditionalor, [Tree(conditionalor, [Tree(conditionaland, [Tree(relation, [Tree(addition, [Tree(multiplication, [Tree(unary, [Tree(member, [Tree(member_dot_arg, [Tree(member, [Tree(member_dot, [Tree(member, [Tree(primary, [Tree(ident, [Token(IDENT, 'resource')])])]), Token(IDENT, 'name')])]), Token(IDENT, 'startsWith'), Tree(exprlist, [Tree(expr, [Tree(conditionalor, [Tree(conditionaland, [Tree(relation, [Tree(addition, [Tree(multiplication, [Tree(unary, [Tree(member, [Tree(primary, [Tree(literal, [Token(STRING_LIT, '\"projects/project-123/zones/us-east1-b/instances/dev\"')])])])])])])])])])])])])])])])])])])]), Tree(conditionaland, [Tree(relation, [Tree(addition, [Tree(multiplication, [Tree(unary, [Tree(member, [Tree(primary, [Tree(paren_expr, [Tree(expr, [Tree(conditionalor, [Tree(conditionaland, [Tree(relation, [Tree(addition, [Tree(multiplication, [Tree(unary, [Tree(member, [Tree(member_dot_arg, [Tree(member, [Tree(member_dot, [Tree(member, [Tree(primary, [Tree(ident, [Token(IDENT, 'resource')])])]), Token(IDENT, 'name')])]), Token(IDENT, 'startsWith'), Tree(exprlist, [Tree(expr, [Tree(conditionalor, [Tree(conditionaland, [Tree(relation, [Tree(addition, [Tree(multiplication, [Tree(unary, [Tree(member, [Tree(primary, [Tree(literal, [Token(STRING_LIT, '\"projects/project-123/zones/us-east1-b/instances/prod\"')])])])])])])])])])])])])])])])])])])])])])])])])])])])])])])])])])])])])])]), Tree(relation, [Tree(relation_eq, [Tree(relation, [Tree(addition, [Tree(multiplication, [Tree(unary, [Tree(member, [Tree(member_dot, [Tree(member, [Tree(primary, [Tree(ident, [Token(IDENT, 'resource')])])]), Token(IDENT, 'instanceSize')])])])])])])]), Tree(addition, [Tree(multiplication, [Tree(unary, [Tree(member, [Tree(primary, [Tree(literal, [Token(STRING_LIT, '\"m1.standard\"')])])])])])])])])])])])])\n",
      "INFO:Evaluator:                  Tree(expr, [Tree(conditionalor, [Tree(conditionaland, [Tree(conditionaland, [Tree(relation, [Tree(addition, [Tree(multiplication, [Tree(unary, [Tree(member, [Tree(primary, [Tree(paren_expr, [Tree(expr, [Tree(conditionalor, [Tree(conditionalor, [Tree(conditionaland, [Tree(relation, [Tree(addition, [Tree(multiplication, [Tree(unary, [Tree(member, [Tree(member_dot_arg, [Tree(member, [Tree(member_dot, [Tree(member, [Tree(primary, [Tree(ident, [Token(IDENT, 'resource')])])]), Token(IDENT, 'name')])]), Token(IDENT, 'startsWith'), Tree(exprlist, [Tree(expr, [Tree(conditionalor, [Tree(conditionaland, [Tree(relation, [Tree(addition, [Tree(multiplication, [Tree(unary, [Tree(member, [Tree(primary, [Tree(literal, [Token(STRING_LIT, '\"projects/project-123/zones/us-east1-b/instances/dev\"')])])])])])])])])])])])])])])])])])])]), Tree(conditionaland, [Tree(relation, [Tree(addition, [Tree(multiplication, [Tree(unary, [Tree(member, [Tree(primary, [Tree(paren_expr, [Tree(expr, [Tree(conditionalor, [Tree(conditionaland, [Tree(relation, [Tree(addition, [Tree(multiplication, [Tree(unary, [Tree(member, [Tree(member_dot_arg, [Tree(member, [Tree(member_dot, [Tree(member, [Tree(primary, [Tree(ident, [Token(IDENT, 'resource')])])]), Token(IDENT, 'name')])]), Token(IDENT, 'startsWith'), Tree(exprlist, [Tree(expr, [Tree(conditionalor, [Tree(conditionaland, [Tree(relation, [Tree(addition, [Tree(multiplication, [Tree(unary, [Tree(member, [Tree(primary, [Tree(literal, [Token(STRING_LIT, '\"projects/project-123/zones/us-east1-b/instances/prod\"')])])])])])])])])])])])])])])])])])])])])])])])])])])])])])])])])])])])])])]), Tree(relation, [Tree(relation_eq, [Tree(relation, [Tree(addition, [Tree(multiplication, [Tree(unary, [Tree(member, [Tree(member_dot, [Tree(member, [Tree(primary, [Tree(ident, [Token(IDENT, 'resource')])])]), Token(IDENT, 'instanceSize')])])])])])])]), Tree(addition, [Tree(multiplication, [Tree(unary, [Tree(member, [Tree(primary, [Tree(literal, [Token(STRING_LIT, '\"m1.standard\"')])])])])])])])])])])\n",
      "INFO:Evaluator:                    Tree(conditionalor, [Tree(conditionaland, [Tree(conditionaland, [Tree(relation, [Tree(addition, [Tree(multiplication, [Tree(unary, [Tree(member, [Tree(primary, [Tree(paren_expr, [Tree(expr, [Tree(conditionalor, [Tree(conditionalor, [Tree(conditionaland, [Tree(relation, [Tree(addition, [Tree(multiplication, [Tree(unary, [Tree(member, [Tree(member_dot_arg, [Tree(member, [Tree(member_dot, [Tree(member, [Tree(primary, [Tree(ident, [Token(IDENT, 'resource')])])]), Token(IDENT, 'name')])]), Token(IDENT, 'startsWith'), Tree(exprlist, [Tree(expr, [Tree(conditionalor, [Tree(conditionaland, [Tree(relation, [Tree(addition, [Tree(multiplication, [Tree(unary, [Tree(member, [Tree(primary, [Tree(literal, [Token(STRING_LIT, '\"projects/project-123/zones/us-east1-b/instances/dev\"')])])])])])])])])])])])])])])])])])])]), Tree(conditionaland, [Tree(relation, [Tree(addition, [Tree(multiplication, [Tree(unary, [Tree(member, [Tree(primary, [Tree(paren_expr, [Tree(expr, [Tree(conditionalor, [Tree(conditionaland, [Tree(relation, [Tree(addition, [Tree(multiplication, [Tree(unary, [Tree(member, [Tree(member_dot_arg, [Tree(member, [Tree(member_dot, [Tree(member, [Tree(primary, [Tree(ident, [Token(IDENT, 'resource')])])]), Token(IDENT, 'name')])]), Token(IDENT, 'startsWith'), Tree(exprlist, [Tree(expr, [Tree(conditionalor, [Tree(conditionaland, [Tree(relation, [Tree(addition, [Tree(multiplication, [Tree(unary, [Tree(member, [Tree(primary, [Tree(literal, [Token(STRING_LIT, '\"projects/project-123/zones/us-east1-b/instances/prod\"')])])])])])])])])])])])])])])])])])])])])])])])])])])])])])])])])])])])])])]), Tree(relation, [Tree(relation_eq, [Tree(relation, [Tree(addition, [Tree(multiplication, [Tree(unary, [Tree(member, [Tree(member_dot, [Tree(member, [Tree(primary, [Tree(ident, [Token(IDENT, 'resource')])])]), Token(IDENT, 'instanceSize')])])])])])])]), Tree(addition, [Tree(multiplication, [Tree(unary, [Tree(member, [Tree(primary, [Tree(literal, [Token(STRING_LIT, '\"m1.standard\"')])])])])])])])])])\n",
      "INFO:Evaluator:                      Tree(conditionaland, [Tree(conditionaland, [Tree(relation, [Tree(addition, [Tree(multiplication, [Tree(unary, [Tree(member, [Tree(primary, [Tree(paren_expr, [Tree(expr, [Tree(conditionalor, [Tree(conditionalor, [Tree(conditionaland, [Tree(relation, [Tree(addition, [Tree(multiplication, [Tree(unary, [Tree(member, [Tree(member_dot_arg, [Tree(member, [Tree(member_dot, [Tree(member, [Tree(primary, [Tree(ident, [Token(IDENT, 'resource')])])]), Token(IDENT, 'name')])]), Token(IDENT, 'startsWith'), Tree(exprlist, [Tree(expr, [Tree(conditionalor, [Tree(conditionaland, [Tree(relation, [Tree(addition, [Tree(multiplication, [Tree(unary, [Tree(member, [Tree(primary, [Tree(literal, [Token(STRING_LIT, '\"projects/project-123/zones/us-east1-b/instances/dev\"')])])])])])])])])])])])])])])])])])])]), Tree(conditionaland, [Tree(relation, [Tree(addition, [Tree(multiplication, [Tree(unary, [Tree(member, [Tree(primary, [Tree(paren_expr, [Tree(expr, [Tree(conditionalor, [Tree(conditionaland, [Tree(relation, [Tree(addition, [Tree(multiplication, [Tree(unary, [Tree(member, [Tree(member_dot_arg, [Tree(member, [Tree(member_dot, [Tree(member, [Tree(primary, [Tree(ident, [Token(IDENT, 'resource')])])]), Token(IDENT, 'name')])]), Token(IDENT, 'startsWith'), Tree(exprlist, [Tree(expr, [Tree(conditionalor, [Tree(conditionaland, [Tree(relation, [Tree(addition, [Tree(multiplication, [Tree(unary, [Tree(member, [Tree(primary, [Tree(literal, [Token(STRING_LIT, '\"projects/project-123/zones/us-east1-b/instances/prod\"')])])])])])])])])])])])])])])])])])])])])])])])])])])])])])])])])])])])])])]), Tree(relation, [Tree(relation_eq, [Tree(relation, [Tree(addition, [Tree(multiplication, [Tree(unary, [Tree(member, [Tree(member_dot, [Tree(member, [Tree(primary, [Tree(ident, [Token(IDENT, 'resource')])])]), Token(IDENT, 'instanceSize')])])])])])])]), Tree(addition, [Tree(multiplication, [Tree(unary, [Tree(member, [Tree(primary, [Tree(literal, [Token(STRING_LIT, '\"m1.standard\"')])])])])])])])])\n",
      "INFO:Evaluator:                        Tree(conditionaland, [Tree(relation, [Tree(addition, [Tree(multiplication, [Tree(unary, [Tree(member, [Tree(primary, [Tree(paren_expr, [Tree(expr, [Tree(conditionalor, [Tree(conditionalor, [Tree(conditionaland, [Tree(relation, [Tree(addition, [Tree(multiplication, [Tree(unary, [Tree(member, [Tree(member_dot_arg, [Tree(member, [Tree(member_dot, [Tree(member, [Tree(primary, [Tree(ident, [Token(IDENT, 'resource')])])]), Token(IDENT, 'name')])]), Token(IDENT, 'startsWith'), Tree(exprlist, [Tree(expr, [Tree(conditionalor, [Tree(conditionaland, [Tree(relation, [Tree(addition, [Tree(multiplication, [Tree(unary, [Tree(member, [Tree(primary, [Tree(literal, [Token(STRING_LIT, '\"projects/project-123/zones/us-east1-b/instances/dev\"')])])])])])])])])])])])])])])])])])])]), Tree(conditionaland, [Tree(relation, [Tree(addition, [Tree(multiplication, [Tree(unary, [Tree(member, [Tree(primary, [Tree(paren_expr, [Tree(expr, [Tree(conditionalor, [Tree(conditionaland, [Tree(relation, [Tree(addition, [Tree(multiplication, [Tree(unary, [Tree(member, [Tree(member_dot_arg, [Tree(member, [Tree(member_dot, [Tree(member, [Tree(primary, [Tree(ident, [Token(IDENT, 'resource')])])]), Token(IDENT, 'name')])]), Token(IDENT, 'startsWith'), Tree(exprlist, [Tree(expr, [Tree(conditionalor, [Tree(conditionaland, [Tree(relation, [Tree(addition, [Tree(multiplication, [Tree(unary, [Tree(member, [Tree(primary, [Tree(literal, [Token(STRING_LIT, '\"projects/project-123/zones/us-east1-b/instances/prod\"')])])])])])])])])])])])])])])])])])])])])])])])])])])])])])])])])])])])])])])\n",
      "INFO:Evaluator:                          Tree(relation, [Tree(addition, [Tree(multiplication, [Tree(unary, [Tree(member, [Tree(primary, [Tree(paren_expr, [Tree(expr, [Tree(conditionalor, [Tree(conditionalor, [Tree(conditionaland, [Tree(relation, [Tree(addition, [Tree(multiplication, [Tree(unary, [Tree(member, [Tree(member_dot_arg, [Tree(member, [Tree(member_dot, [Tree(member, [Tree(primary, [Tree(ident, [Token(IDENT, 'resource')])])]), Token(IDENT, 'name')])]), Token(IDENT, 'startsWith'), Tree(exprlist, [Tree(expr, [Tree(conditionalor, [Tree(conditionaland, [Tree(relation, [Tree(addition, [Tree(multiplication, [Tree(unary, [Tree(member, [Tree(primary, [Tree(literal, [Token(STRING_LIT, '\"projects/project-123/zones/us-east1-b/instances/dev\"')])])])])])])])])])])])])])])])])])])]), Tree(conditionaland, [Tree(relation, [Tree(addition, [Tree(multiplication, [Tree(unary, [Tree(member, [Tree(primary, [Tree(paren_expr, [Tree(expr, [Tree(conditionalor, [Tree(conditionaland, [Tree(relation, [Tree(addition, [Tree(multiplication, [Tree(unary, [Tree(member, [Tree(member_dot_arg, [Tree(member, [Tree(member_dot, [Tree(member, [Tree(primary, [Tree(ident, [Token(IDENT, 'resource')])])]), Token(IDENT, 'name')])]), Token(IDENT, 'startsWith'), Tree(exprlist, [Tree(expr, [Tree(conditionalor, [Tree(conditionaland, [Tree(relation, [Tree(addition, [Tree(multiplication, [Tree(unary, [Tree(member, [Tree(primary, [Tree(literal, [Token(STRING_LIT, '\"projects/project-123/zones/us-east1-b/instances/prod\"')])])])])])])])])])])])])])])])])])])])])])])])])])])])])])])])])])])])])])\n",
      "INFO:Evaluator:                            Tree(addition, [Tree(multiplication, [Tree(unary, [Tree(member, [Tree(primary, [Tree(paren_expr, [Tree(expr, [Tree(conditionalor, [Tree(conditionalor, [Tree(conditionaland, [Tree(relation, [Tree(addition, [Tree(multiplication, [Tree(unary, [Tree(member, [Tree(member_dot_arg, [Tree(member, [Tree(member_dot, [Tree(member, [Tree(primary, [Tree(ident, [Token(IDENT, 'resource')])])]), Token(IDENT, 'name')])]), Token(IDENT, 'startsWith'), Tree(exprlist, [Tree(expr, [Tree(conditionalor, [Tree(conditionaland, [Tree(relation, [Tree(addition, [Tree(multiplication, [Tree(unary, [Tree(member, [Tree(primary, [Tree(literal, [Token(STRING_LIT, '\"projects/project-123/zones/us-east1-b/instances/dev\"')])])])])])])])])])])])])])])])])])])]), Tree(conditionaland, [Tree(relation, [Tree(addition, [Tree(multiplication, [Tree(unary, [Tree(member, [Tree(primary, [Tree(paren_expr, [Tree(expr, [Tree(conditionalor, [Tree(conditionaland, [Tree(relation, [Tree(addition, [Tree(multiplication, [Tree(unary, [Tree(member, [Tree(member_dot_arg, [Tree(member, [Tree(member_dot, [Tree(member, [Tree(primary, [Tree(ident, [Token(IDENT, 'resource')])])]), Token(IDENT, 'name')])]), Token(IDENT, 'startsWith'), Tree(exprlist, [Tree(expr, [Tree(conditionalor, [Tree(conditionaland, [Tree(relation, [Tree(addition, [Tree(multiplication, [Tree(unary, [Tree(member, [Tree(primary, [Tree(literal, [Token(STRING_LIT, '\"projects/project-123/zones/us-east1-b/instances/prod\"')])])])])])])])])])])])])])])])])])])])])])])])])])])])])])])])])])])])])\n",
      "INFO:Evaluator:                              Tree(multiplication, [Tree(unary, [Tree(member, [Tree(primary, [Tree(paren_expr, [Tree(expr, [Tree(conditionalor, [Tree(conditionalor, [Tree(conditionaland, [Tree(relation, [Tree(addition, [Tree(multiplication, [Tree(unary, [Tree(member, [Tree(member_dot_arg, [Tree(member, [Tree(member_dot, [Tree(member, [Tree(primary, [Tree(ident, [Token(IDENT, 'resource')])])]), Token(IDENT, 'name')])]), Token(IDENT, 'startsWith'), Tree(exprlist, [Tree(expr, [Tree(conditionalor, [Tree(conditionaland, [Tree(relation, [Tree(addition, [Tree(multiplication, [Tree(unary, [Tree(member, [Tree(primary, [Tree(literal, [Token(STRING_LIT, '\"projects/project-123/zones/us-east1-b/instances/dev\"')])])])])])])])])])])])])])])])])])])]), Tree(conditionaland, [Tree(relation, [Tree(addition, [Tree(multiplication, [Tree(unary, [Tree(member, [Tree(primary, [Tree(paren_expr, [Tree(expr, [Tree(conditionalor, [Tree(conditionaland, [Tree(relation, [Tree(addition, [Tree(multiplication, [Tree(unary, [Tree(member, [Tree(member_dot_arg, [Tree(member, [Tree(member_dot, [Tree(member, [Tree(primary, [Tree(ident, [Token(IDENT, 'resource')])])]), Token(IDENT, 'name')])]), Token(IDENT, 'startsWith'), Tree(exprlist, [Tree(expr, [Tree(conditionalor, [Tree(conditionaland, [Tree(relation, [Tree(addition, [Tree(multiplication, [Tree(unary, [Tree(member, [Tree(primary, [Tree(literal, [Token(STRING_LIT, '\"projects/project-123/zones/us-east1-b/instances/prod\"')])])])])])])])])])])])])])])])])])])])])])])])])])])])])])])])])])])])\n",
      "INFO:Evaluator:                                Tree(unary, [Tree(member, [Tree(primary, [Tree(paren_expr, [Tree(expr, [Tree(conditionalor, [Tree(conditionalor, [Tree(conditionaland, [Tree(relation, [Tree(addition, [Tree(multiplication, [Tree(unary, [Tree(member, [Tree(member_dot_arg, [Tree(member, [Tree(member_dot, [Tree(member, [Tree(primary, [Tree(ident, [Token(IDENT, 'resource')])])]), Token(IDENT, 'name')])]), Token(IDENT, 'startsWith'), Tree(exprlist, [Tree(expr, [Tree(conditionalor, [Tree(conditionaland, [Tree(relation, [Tree(addition, [Tree(multiplication, [Tree(unary, [Tree(member, [Tree(primary, [Tree(literal, [Token(STRING_LIT, '\"projects/project-123/zones/us-east1-b/instances/dev\"')])])])])])])])])])])])])])])])])])])]), Tree(conditionaland, [Tree(relation, [Tree(addition, [Tree(multiplication, [Tree(unary, [Tree(member, [Tree(primary, [Tree(paren_expr, [Tree(expr, [Tree(conditionalor, [Tree(conditionaland, [Tree(relation, [Tree(addition, [Tree(multiplication, [Tree(unary, [Tree(member, [Tree(member_dot_arg, [Tree(member, [Tree(member_dot, [Tree(member, [Tree(primary, [Tree(ident, [Token(IDENT, 'resource')])])]), Token(IDENT, 'name')])]), Token(IDENT, 'startsWith'), Tree(exprlist, [Tree(expr, [Tree(conditionalor, [Tree(conditionaland, [Tree(relation, [Tree(addition, [Tree(multiplication, [Tree(unary, [Tree(member, [Tree(primary, [Tree(literal, [Token(STRING_LIT, '\"projects/project-123/zones/us-east1-b/instances/prod\"')])])])])])])])])])])])])])])])])])])])])])])])])])])])])])])])])])])\n",
      "INFO:Evaluator:                                  Tree(member, [Tree(primary, [Tree(paren_expr, [Tree(expr, [Tree(conditionalor, [Tree(conditionalor, [Tree(conditionaland, [Tree(relation, [Tree(addition, [Tree(multiplication, [Tree(unary, [Tree(member, [Tree(member_dot_arg, [Tree(member, [Tree(member_dot, [Tree(member, [Tree(primary, [Tree(ident, [Token(IDENT, 'resource')])])]), Token(IDENT, 'name')])]), Token(IDENT, 'startsWith'), Tree(exprlist, [Tree(expr, [Tree(conditionalor, [Tree(conditionaland, [Tree(relation, [Tree(addition, [Tree(multiplication, [Tree(unary, [Tree(member, [Tree(primary, [Tree(literal, [Token(STRING_LIT, '\"projects/project-123/zones/us-east1-b/instances/dev\"')])])])])])])])])])])])])])])])])])])]), Tree(conditionaland, [Tree(relation, [Tree(addition, [Tree(multiplication, [Tree(unary, [Tree(member, [Tree(primary, [Tree(paren_expr, [Tree(expr, [Tree(conditionalor, [Tree(conditionaland, [Tree(relation, [Tree(addition, [Tree(multiplication, [Tree(unary, [Tree(member, [Tree(member_dot_arg, [Tree(member, [Tree(member_dot, [Tree(member, [Tree(primary, [Tree(ident, [Token(IDENT, 'resource')])])]), Token(IDENT, 'name')])]), Token(IDENT, 'startsWith'), Tree(exprlist, [Tree(expr, [Tree(conditionalor, [Tree(conditionaland, [Tree(relation, [Tree(addition, [Tree(multiplication, [Tree(unary, [Tree(member, [Tree(primary, [Tree(literal, [Token(STRING_LIT, '\"projects/project-123/zones/us-east1-b/instances/prod\"')])])])])])])])])])])])])])])])])])])])])])])])])])])])])])])])])])\n",
      "INFO:Evaluator:                                    Tree(primary, [Tree(paren_expr, [Tree(expr, [Tree(conditionalor, [Tree(conditionalor, [Tree(conditionaland, [Tree(relation, [Tree(addition, [Tree(multiplication, [Tree(unary, [Tree(member, [Tree(member_dot_arg, [Tree(member, [Tree(member_dot, [Tree(member, [Tree(primary, [Tree(ident, [Token(IDENT, 'resource')])])]), Token(IDENT, 'name')])]), Token(IDENT, 'startsWith'), Tree(exprlist, [Tree(expr, [Tree(conditionalor, [Tree(conditionaland, [Tree(relation, [Tree(addition, [Tree(multiplication, [Tree(unary, [Tree(member, [Tree(primary, [Tree(literal, [Token(STRING_LIT, '\"projects/project-123/zones/us-east1-b/instances/dev\"')])])])])])])])])])])])])])])])])])])]), Tree(conditionaland, [Tree(relation, [Tree(addition, [Tree(multiplication, [Tree(unary, [Tree(member, [Tree(primary, [Tree(paren_expr, [Tree(expr, [Tree(conditionalor, [Tree(conditionaland, [Tree(relation, [Tree(addition, [Tree(multiplication, [Tree(unary, [Tree(member, [Tree(member_dot_arg, [Tree(member, [Tree(member_dot, [Tree(member, [Tree(primary, [Tree(ident, [Token(IDENT, 'resource')])])]), Token(IDENT, 'name')])]), Token(IDENT, 'startsWith'), Tree(exprlist, [Tree(expr, [Tree(conditionalor, [Tree(conditionaland, [Tree(relation, [Tree(addition, [Tree(multiplication, [Tree(unary, [Tree(member, [Tree(primary, [Tree(literal, [Token(STRING_LIT, '\"projects/project-123/zones/us-east1-b/instances/prod\"')])])])])])])])])])])])])])])])])])])])])])])])])])])])])])])])])\n",
      "INFO:Evaluator:                                      Tree(expr, [Tree(conditionalor, [Tree(conditionalor, [Tree(conditionaland, [Tree(relation, [Tree(addition, [Tree(multiplication, [Tree(unary, [Tree(member, [Tree(member_dot_arg, [Tree(member, [Tree(member_dot, [Tree(member, [Tree(primary, [Tree(ident, [Token(IDENT, 'resource')])])]), Token(IDENT, 'name')])]), Token(IDENT, 'startsWith'), Tree(exprlist, [Tree(expr, [Tree(conditionalor, [Tree(conditionaland, [Tree(relation, [Tree(addition, [Tree(multiplication, [Tree(unary, [Tree(member, [Tree(primary, [Tree(literal, [Token(STRING_LIT, '\"projects/project-123/zones/us-east1-b/instances/dev\"')])])])])])])])])])])])])])])])])])])]), Tree(conditionaland, [Tree(relation, [Tree(addition, [Tree(multiplication, [Tree(unary, [Tree(member, [Tree(primary, [Tree(paren_expr, [Tree(expr, [Tree(conditionalor, [Tree(conditionaland, [Tree(relation, [Tree(addition, [Tree(multiplication, [Tree(unary, [Tree(member, [Tree(member_dot_arg, [Tree(member, [Tree(member_dot, [Tree(member, [Tree(primary, [Tree(ident, [Token(IDENT, 'resource')])])]), Token(IDENT, 'name')])]), Token(IDENT, 'startsWith'), Tree(exprlist, [Tree(expr, [Tree(conditionalor, [Tree(conditionaland, [Tree(relation, [Tree(addition, [Tree(multiplication, [Tree(unary, [Tree(member, [Tree(primary, [Tree(literal, [Token(STRING_LIT, '\"projects/project-123/zones/us-east1-b/instances/prod\"')])])])])])])])])])])])])])])])])])])])])])])])])])])])])])])\n",
      "INFO:Evaluator:                                        Tree(conditionalor, [Tree(conditionalor, [Tree(conditionaland, [Tree(relation, [Tree(addition, [Tree(multiplication, [Tree(unary, [Tree(member, [Tree(member_dot_arg, [Tree(member, [Tree(member_dot, [Tree(member, [Tree(primary, [Tree(ident, [Token(IDENT, 'resource')])])]), Token(IDENT, 'name')])]), Token(IDENT, 'startsWith'), Tree(exprlist, [Tree(expr, [Tree(conditionalor, [Tree(conditionaland, [Tree(relation, [Tree(addition, [Tree(multiplication, [Tree(unary, [Tree(member, [Tree(primary, [Tree(literal, [Token(STRING_LIT, '\"projects/project-123/zones/us-east1-b/instances/dev\"')])])])])])])])])])])])])])])])])])])]), Tree(conditionaland, [Tree(relation, [Tree(addition, [Tree(multiplication, [Tree(unary, [Tree(member, [Tree(primary, [Tree(paren_expr, [Tree(expr, [Tree(conditionalor, [Tree(conditionaland, [Tree(relation, [Tree(addition, [Tree(multiplication, [Tree(unary, [Tree(member, [Tree(member_dot_arg, [Tree(member, [Tree(member_dot, [Tree(member, [Tree(primary, [Tree(ident, [Token(IDENT, 'resource')])])]), Token(IDENT, 'name')])]), Token(IDENT, 'startsWith'), Tree(exprlist, [Tree(expr, [Tree(conditionalor, [Tree(conditionaland, [Tree(relation, [Tree(addition, [Tree(multiplication, [Tree(unary, [Tree(member, [Tree(primary, [Tree(literal, [Token(STRING_LIT, '\"projects/project-123/zones/us-east1-b/instances/prod\"')])])])])])])])])])])])])])])])])])])])])])])])])])])])])])\n",
      "INFO:Evaluator:                                          Tree(conditionalor, [Tree(conditionaland, [Tree(relation, [Tree(addition, [Tree(multiplication, [Tree(unary, [Tree(member, [Tree(member_dot_arg, [Tree(member, [Tree(member_dot, [Tree(member, [Tree(primary, [Tree(ident, [Token(IDENT, 'resource')])])]), Token(IDENT, 'name')])]), Token(IDENT, 'startsWith'), Tree(exprlist, [Tree(expr, [Tree(conditionalor, [Tree(conditionaland, [Tree(relation, [Tree(addition, [Tree(multiplication, [Tree(unary, [Tree(member, [Tree(primary, [Tree(literal, [Token(STRING_LIT, '\"projects/project-123/zones/us-east1-b/instances/dev\"')])])])])])])])])])])])])])])])])])])])\n",
      "INFO:Evaluator:                                            Tree(conditionaland, [Tree(relation, [Tree(addition, [Tree(multiplication, [Tree(unary, [Tree(member, [Tree(member_dot_arg, [Tree(member, [Tree(member_dot, [Tree(member, [Tree(primary, [Tree(ident, [Token(IDENT, 'resource')])])]), Token(IDENT, 'name')])]), Token(IDENT, 'startsWith'), Tree(exprlist, [Tree(expr, [Tree(conditionalor, [Tree(conditionaland, [Tree(relation, [Tree(addition, [Tree(multiplication, [Tree(unary, [Tree(member, [Tree(primary, [Tree(literal, [Token(STRING_LIT, '\"projects/project-123/zones/us-east1-b/instances/dev\"')])])])])])])])])])])])])])])])])])])\n",
      "INFO:Evaluator:                                              Tree(relation, [Tree(addition, [Tree(multiplication, [Tree(unary, [Tree(member, [Tree(member_dot_arg, [Tree(member, [Tree(member_dot, [Tree(member, [Tree(primary, [Tree(ident, [Token(IDENT, 'resource')])])]), Token(IDENT, 'name')])]), Token(IDENT, 'startsWith'), Tree(exprlist, [Tree(expr, [Tree(conditionalor, [Tree(conditionaland, [Tree(relation, [Tree(addition, [Tree(multiplication, [Tree(unary, [Tree(member, [Tree(primary, [Tree(literal, [Token(STRING_LIT, '\"projects/project-123/zones/us-east1-b/instances/dev\"')])])])])])])])])])])])])])])])])])\n",
      "INFO:Evaluator:                                                Tree(addition, [Tree(multiplication, [Tree(unary, [Tree(member, [Tree(member_dot_arg, [Tree(member, [Tree(member_dot, [Tree(member, [Tree(primary, [Tree(ident, [Token(IDENT, 'resource')])])]), Token(IDENT, 'name')])]), Token(IDENT, 'startsWith'), Tree(exprlist, [Tree(expr, [Tree(conditionalor, [Tree(conditionaland, [Tree(relation, [Tree(addition, [Tree(multiplication, [Tree(unary, [Tree(member, [Tree(primary, [Tree(literal, [Token(STRING_LIT, '\"projects/project-123/zones/us-east1-b/instances/dev\"')])])])])])])])])])])])])])])])])\n",
      "INFO:Evaluator:                                                  Tree(multiplication, [Tree(unary, [Tree(member, [Tree(member_dot_arg, [Tree(member, [Tree(member_dot, [Tree(member, [Tree(primary, [Tree(ident, [Token(IDENT, 'resource')])])]), Token(IDENT, 'name')])]), Token(IDENT, 'startsWith'), Tree(exprlist, [Tree(expr, [Tree(conditionalor, [Tree(conditionaland, [Tree(relation, [Tree(addition, [Tree(multiplication, [Tree(unary, [Tree(member, [Tree(primary, [Tree(literal, [Token(STRING_LIT, '\"projects/project-123/zones/us-east1-b/instances/dev\"')])])])])])])])])])])])])])])])\n",
      "INFO:Evaluator:                                                    Tree(unary, [Tree(member, [Tree(member_dot_arg, [Tree(member, [Tree(member_dot, [Tree(member, [Tree(primary, [Tree(ident, [Token(IDENT, 'resource')])])]), Token(IDENT, 'name')])]), Token(IDENT, 'startsWith'), Tree(exprlist, [Tree(expr, [Tree(conditionalor, [Tree(conditionaland, [Tree(relation, [Tree(addition, [Tree(multiplication, [Tree(unary, [Tree(member, [Tree(primary, [Tree(literal, [Token(STRING_LIT, '\"projects/project-123/zones/us-east1-b/instances/dev\"')])])])])])])])])])])])])])])\n",
      "INFO:Evaluator:                                                      Tree(member, [Tree(member_dot_arg, [Tree(member, [Tree(member_dot, [Tree(member, [Tree(primary, [Tree(ident, [Token(IDENT, 'resource')])])]), Token(IDENT, 'name')])]), Token(IDENT, 'startsWith'), Tree(exprlist, [Tree(expr, [Tree(conditionalor, [Tree(conditionaland, [Tree(relation, [Tree(addition, [Tree(multiplication, [Tree(unary, [Tree(member, [Tree(primary, [Tree(literal, [Token(STRING_LIT, '\"projects/project-123/zones/us-east1-b/instances/dev\"')])])])])])])])])])])])])])\n",
      "INFO:Evaluator:                                                        Tree(member_dot_arg, [Tree(member, [Tree(member_dot, [Tree(member, [Tree(primary, [Tree(ident, [Token(IDENT, 'resource')])])]), Token(IDENT, 'name')])]), Token(IDENT, 'startsWith'), Tree(exprlist, [Tree(expr, [Tree(conditionalor, [Tree(conditionaland, [Tree(relation, [Tree(addition, [Tree(multiplication, [Tree(unary, [Tree(member, [Tree(primary, [Tree(literal, [Token(STRING_LIT, '\"projects/project-123/zones/us-east1-b/instances/dev\"')])])])])])])])])])])])])\n",
      "INFO:Evaluator:                                                          Tree(member, [Tree(member_dot, [Tree(member, [Tree(primary, [Tree(ident, [Token(IDENT, 'resource')])])]), Token(IDENT, 'name')])])\n",
      "INFO:Evaluator:                                                            Tree(member_dot, [Tree(member, [Tree(primary, [Tree(ident, [Token(IDENT, 'resource')])])]), Token(IDENT, 'name')])\n",
      "INFO:Evaluator:                                                            Tree(member, [Tree(primary, [Tree(ident, [Token(IDENT, 'resource')])])])\n",
      "INFO:Evaluator:                                                              Tree(primary, [Tree(ident, [Token(IDENT, 'resource')])])\n",
      "INFO:evaluation:resolve_name(None.'resource') in dict_keys(['resource'])\n",
      "INFO:Evaluator:                                                              primary -> MapType({StringType('creationTimestamp'): StringType('2018-07-06T05:04:03Z'), StringType('deleteProtection'): BoolType(False), StringType('name'): StringType('projects/project-123/zones/us-east1-b/instances/dev/ec2'), StringType('instanceSize'): StringType('m1.standard')})\n",
      "INFO:Evaluator:                                                            member -> MapType({StringType('creationTimestamp'): StringType('2018-07-06T05:04:03Z'), StringType('deleteProtection'): BoolType(False), StringType('name'): StringType('projects/project-123/zones/us-east1-b/instances/dev/ec2'), StringType('instanceSize'): StringType('m1.standard')})\n",
      "INFO:Evaluator:                                                            member_dot -> StringType('projects/project-123/zones/us-east1-b/instances/dev/ec2')\n",
      "INFO:Evaluator:                                                          member -> StringType('projects/project-123/zones/us-east1-b/instances/dev/ec2')\n",
      "INFO:Evaluator:                                                          Tree(exprlist, [Tree(expr, [Tree(conditionalor, [Tree(conditionaland, [Tree(relation, [Tree(addition, [Tree(multiplication, [Tree(unary, [Tree(member, [Tree(primary, [Tree(literal, [Token(STRING_LIT, '\"projects/project-123/zones/us-east1-b/instances/dev\"')])])])])])])])])])])])\n",
      "INFO:Evaluator:                                                            Tree(expr, [Tree(conditionalor, [Tree(conditionaland, [Tree(relation, [Tree(addition, [Tree(multiplication, [Tree(unary, [Tree(member, [Tree(primary, [Tree(literal, [Token(STRING_LIT, '\"projects/project-123/zones/us-east1-b/instances/dev\"')])])])])])])])])])])\n",
      "INFO:Evaluator:                                                              Tree(conditionalor, [Tree(conditionaland, [Tree(relation, [Tree(addition, [Tree(multiplication, [Tree(unary, [Tree(member, [Tree(primary, [Tree(literal, [Token(STRING_LIT, '\"projects/project-123/zones/us-east1-b/instances/dev\"')])])])])])])])])])\n",
      "INFO:Evaluator:                                                                Tree(conditionaland, [Tree(relation, [Tree(addition, [Tree(multiplication, [Tree(unary, [Tree(member, [Tree(primary, [Tree(literal, [Token(STRING_LIT, '\"projects/project-123/zones/us-east1-b/instances/dev\"')])])])])])])])])\n",
      "INFO:Evaluator:                                                                  Tree(relation, [Tree(addition, [Tree(multiplication, [Tree(unary, [Tree(member, [Tree(primary, [Tree(literal, [Token(STRING_LIT, '\"projects/project-123/zones/us-east1-b/instances/dev\"')])])])])])])])\n",
      "INFO:Evaluator:                                                                    Tree(addition, [Tree(multiplication, [Tree(unary, [Tree(member, [Tree(primary, [Tree(literal, [Token(STRING_LIT, '\"projects/project-123/zones/us-east1-b/instances/dev\"')])])])])])])\n",
      "INFO:Evaluator:                                                                      Tree(multiplication, [Tree(unary, [Tree(member, [Tree(primary, [Tree(literal, [Token(STRING_LIT, '\"projects/project-123/zones/us-east1-b/instances/dev\"')])])])])])\n",
      "INFO:Evaluator:                                                                        Tree(unary, [Tree(member, [Tree(primary, [Tree(literal, [Token(STRING_LIT, '\"projects/project-123/zones/us-east1-b/instances/dev\"')])])])])\n",
      "INFO:Evaluator:                                                                          Tree(member, [Tree(primary, [Tree(literal, [Token(STRING_LIT, '\"projects/project-123/zones/us-east1-b/instances/dev\"')])])])\n",
      "INFO:Evaluator:                                                                            Tree(primary, [Tree(literal, [Token(STRING_LIT, '\"projects/project-123/zones/us-east1-b/instances/dev\"')])])\n",
      "INFO:Evaluator:                                                                              Tree(literal, [Token(STRING_LIT, '\"projects/project-123/zones/us-east1-b/instances/dev\"')])\n",
      "INFO:Evaluator:                                                                              literal -> StringType('projects/project-123/zones/us-east1-b/instances/dev')\n",
      "INFO:Evaluator:                                                                            primary -> StringType('projects/project-123/zones/us-east1-b/instances/dev')\n",
      "INFO:Evaluator:                                                                          member -> StringType('projects/project-123/zones/us-east1-b/instances/dev')\n",
      "INFO:Evaluator:                                                                        unary -> StringType('projects/project-123/zones/us-east1-b/instances/dev')\n",
      "INFO:Evaluator:                                                                      multiplication -> StringType('projects/project-123/zones/us-east1-b/instances/dev')\n",
      "INFO:Evaluator:                                                                    addition -> StringType('projects/project-123/zones/us-east1-b/instances/dev')\n",
      "INFO:Evaluator:                                                                  relation -> StringType('projects/project-123/zones/us-east1-b/instances/dev')\n",
      "INFO:Evaluator:                                                                conditionaland -> StringType('projects/project-123/zones/us-east1-b/instances/dev')\n",
      "INFO:Evaluator:                                                              conditionalor -> StringType('projects/project-123/zones/us-east1-b/instances/dev')\n",
      "INFO:Evaluator:                                                            expr -> StringType('projects/project-123/zones/us-east1-b/instances/dev')\n",
      "INFO:Evaluator:                                                          exprlist -> ListType([StringType('projects/project-123/zones/us-east1-b/instances/dev')])\n",
      "INFO:Evaluator:                                                        member_dot_arg -> BoolType(True)\n",
      "INFO:Evaluator:                                                      member -> BoolType(True)\n",
      "INFO:Evaluator:                                                    unary -> BoolType(True)\n",
      "INFO:Evaluator:                                                  multiplication -> BoolType(True)\n",
      "INFO:Evaluator:                                                addition -> BoolType(True)\n",
      "INFO:Evaluator:                                              relation -> BoolType(True)\n",
      "INFO:Evaluator:                                            conditionaland -> BoolType(True)\n",
      "INFO:Evaluator:                                          conditionalor -> BoolType(True)\n",
      "INFO:Evaluator:                                          Tree(conditionaland, [Tree(relation, [Tree(addition, [Tree(multiplication, [Tree(unary, [Tree(member, [Tree(primary, [Tree(paren_expr, [Tree(expr, [Tree(conditionalor, [Tree(conditionaland, [Tree(relation, [Tree(addition, [Tree(multiplication, [Tree(unary, [Tree(member, [Tree(member_dot_arg, [Tree(member, [Tree(member_dot, [Tree(member, [Tree(primary, [Tree(ident, [Token(IDENT, 'resource')])])]), Token(IDENT, 'name')])]), Token(IDENT, 'startsWith'), Tree(exprlist, [Tree(expr, [Tree(conditionalor, [Tree(conditionaland, [Tree(relation, [Tree(addition, [Tree(multiplication, [Tree(unary, [Tree(member, [Tree(primary, [Tree(literal, [Token(STRING_LIT, '\"projects/project-123/zones/us-east1-b/instances/prod\"')])])])])])])])])])])])])])])])])])])])])])])])])])])])])\n",
      "INFO:Evaluator:                                            Tree(relation, [Tree(addition, [Tree(multiplication, [Tree(unary, [Tree(member, [Tree(primary, [Tree(paren_expr, [Tree(expr, [Tree(conditionalor, [Tree(conditionaland, [Tree(relation, [Tree(addition, [Tree(multiplication, [Tree(unary, [Tree(member, [Tree(member_dot_arg, [Tree(member, [Tree(member_dot, [Tree(member, [Tree(primary, [Tree(ident, [Token(IDENT, 'resource')])])]), Token(IDENT, 'name')])]), Token(IDENT, 'startsWith'), Tree(exprlist, [Tree(expr, [Tree(conditionalor, [Tree(conditionaland, [Tree(relation, [Tree(addition, [Tree(multiplication, [Tree(unary, [Tree(member, [Tree(primary, [Tree(literal, [Token(STRING_LIT, '\"projects/project-123/zones/us-east1-b/instances/prod\"')])])])])])])])])])])])])])])])])])])])])])])])])])])])\n",
      "INFO:Evaluator:                                              Tree(addition, [Tree(multiplication, [Tree(unary, [Tree(member, [Tree(primary, [Tree(paren_expr, [Tree(expr, [Tree(conditionalor, [Tree(conditionaland, [Tree(relation, [Tree(addition, [Tree(multiplication, [Tree(unary, [Tree(member, [Tree(member_dot_arg, [Tree(member, [Tree(member_dot, [Tree(member, [Tree(primary, [Tree(ident, [Token(IDENT, 'resource')])])]), Token(IDENT, 'name')])]), Token(IDENT, 'startsWith'), Tree(exprlist, [Tree(expr, [Tree(conditionalor, [Tree(conditionaland, [Tree(relation, [Tree(addition, [Tree(multiplication, [Tree(unary, [Tree(member, [Tree(primary, [Tree(literal, [Token(STRING_LIT, '\"projects/project-123/zones/us-east1-b/instances/prod\"')])])])])])])])])])])])])])])])])])])])])])])])])])])\n",
      "INFO:Evaluator:                                                Tree(multiplication, [Tree(unary, [Tree(member, [Tree(primary, [Tree(paren_expr, [Tree(expr, [Tree(conditionalor, [Tree(conditionaland, [Tree(relation, [Tree(addition, [Tree(multiplication, [Tree(unary, [Tree(member, [Tree(member_dot_arg, [Tree(member, [Tree(member_dot, [Tree(member, [Tree(primary, [Tree(ident, [Token(IDENT, 'resource')])])]), Token(IDENT, 'name')])]), Token(IDENT, 'startsWith'), Tree(exprlist, [Tree(expr, [Tree(conditionalor, [Tree(conditionaland, [Tree(relation, [Tree(addition, [Tree(multiplication, [Tree(unary, [Tree(member, [Tree(primary, [Tree(literal, [Token(STRING_LIT, '\"projects/project-123/zones/us-east1-b/instances/prod\"')])])])])])])])])])])])])])])])])])])])])])])])])])\n",
      "INFO:Evaluator:                                                  Tree(unary, [Tree(member, [Tree(primary, [Tree(paren_expr, [Tree(expr, [Tree(conditionalor, [Tree(conditionaland, [Tree(relation, [Tree(addition, [Tree(multiplication, [Tree(unary, [Tree(member, [Tree(member_dot_arg, [Tree(member, [Tree(member_dot, [Tree(member, [Tree(primary, [Tree(ident, [Token(IDENT, 'resource')])])]), Token(IDENT, 'name')])]), Token(IDENT, 'startsWith'), Tree(exprlist, [Tree(expr, [Tree(conditionalor, [Tree(conditionaland, [Tree(relation, [Tree(addition, [Tree(multiplication, [Tree(unary, [Tree(member, [Tree(primary, [Tree(literal, [Token(STRING_LIT, '\"projects/project-123/zones/us-east1-b/instances/prod\"')])])])])])])])])])])])])])])])])])])])])])])])])\n",
      "INFO:Evaluator:                                                    Tree(member, [Tree(primary, [Tree(paren_expr, [Tree(expr, [Tree(conditionalor, [Tree(conditionaland, [Tree(relation, [Tree(addition, [Tree(multiplication, [Tree(unary, [Tree(member, [Tree(member_dot_arg, [Tree(member, [Tree(member_dot, [Tree(member, [Tree(primary, [Tree(ident, [Token(IDENT, 'resource')])])]), Token(IDENT, 'name')])]), Token(IDENT, 'startsWith'), Tree(exprlist, [Tree(expr, [Tree(conditionalor, [Tree(conditionaland, [Tree(relation, [Tree(addition, [Tree(multiplication, [Tree(unary, [Tree(member, [Tree(primary, [Tree(literal, [Token(STRING_LIT, '\"projects/project-123/zones/us-east1-b/instances/prod\"')])])])])])])])])])])])])])])])])])])])])])])])\n",
      "INFO:Evaluator:                                                      Tree(primary, [Tree(paren_expr, [Tree(expr, [Tree(conditionalor, [Tree(conditionaland, [Tree(relation, [Tree(addition, [Tree(multiplication, [Tree(unary, [Tree(member, [Tree(member_dot_arg, [Tree(member, [Tree(member_dot, [Tree(member, [Tree(primary, [Tree(ident, [Token(IDENT, 'resource')])])]), Token(IDENT, 'name')])]), Token(IDENT, 'startsWith'), Tree(exprlist, [Tree(expr, [Tree(conditionalor, [Tree(conditionaland, [Tree(relation, [Tree(addition, [Tree(multiplication, [Tree(unary, [Tree(member, [Tree(primary, [Tree(literal, [Token(STRING_LIT, '\"projects/project-123/zones/us-east1-b/instances/prod\"')])])])])])])])])])])])])])])])])])])])])])])\n",
      "INFO:Evaluator:                                                        Tree(expr, [Tree(conditionalor, [Tree(conditionaland, [Tree(relation, [Tree(addition, [Tree(multiplication, [Tree(unary, [Tree(member, [Tree(member_dot_arg, [Tree(member, [Tree(member_dot, [Tree(member, [Tree(primary, [Tree(ident, [Token(IDENT, 'resource')])])]), Token(IDENT, 'name')])]), Token(IDENT, 'startsWith'), Tree(exprlist, [Tree(expr, [Tree(conditionalor, [Tree(conditionaland, [Tree(relation, [Tree(addition, [Tree(multiplication, [Tree(unary, [Tree(member, [Tree(primary, [Tree(literal, [Token(STRING_LIT, '\"projects/project-123/zones/us-east1-b/instances/prod\"')])])])])])])])])])])])])])])])])])])])])\n",
      "INFO:Evaluator:                                                          Tree(conditionalor, [Tree(conditionaland, [Tree(relation, [Tree(addition, [Tree(multiplication, [Tree(unary, [Tree(member, [Tree(member_dot_arg, [Tree(member, [Tree(member_dot, [Tree(member, [Tree(primary, [Tree(ident, [Token(IDENT, 'resource')])])]), Token(IDENT, 'name')])]), Token(IDENT, 'startsWith'), Tree(exprlist, [Tree(expr, [Tree(conditionalor, [Tree(conditionaland, [Tree(relation, [Tree(addition, [Tree(multiplication, [Tree(unary, [Tree(member, [Tree(primary, [Tree(literal, [Token(STRING_LIT, '\"projects/project-123/zones/us-east1-b/instances/prod\"')])])])])])])])])])])])])])])])])])])])\n",
      "INFO:Evaluator:                                                            Tree(conditionaland, [Tree(relation, [Tree(addition, [Tree(multiplication, [Tree(unary, [Tree(member, [Tree(member_dot_arg, [Tree(member, [Tree(member_dot, [Tree(member, [Tree(primary, [Tree(ident, [Token(IDENT, 'resource')])])]), Token(IDENT, 'name')])]), Token(IDENT, 'startsWith'), Tree(exprlist, [Tree(expr, [Tree(conditionalor, [Tree(conditionaland, [Tree(relation, [Tree(addition, [Tree(multiplication, [Tree(unary, [Tree(member, [Tree(primary, [Tree(literal, [Token(STRING_LIT, '\"projects/project-123/zones/us-east1-b/instances/prod\"')])])])])])])])])])])])])])])])])])])\n",
      "INFO:Evaluator:                                                              Tree(relation, [Tree(addition, [Tree(multiplication, [Tree(unary, [Tree(member, [Tree(member_dot_arg, [Tree(member, [Tree(member_dot, [Tree(member, [Tree(primary, [Tree(ident, [Token(IDENT, 'resource')])])]), Token(IDENT, 'name')])]), Token(IDENT, 'startsWith'), Tree(exprlist, [Tree(expr, [Tree(conditionalor, [Tree(conditionaland, [Tree(relation, [Tree(addition, [Tree(multiplication, [Tree(unary, [Tree(member, [Tree(primary, [Tree(literal, [Token(STRING_LIT, '\"projects/project-123/zones/us-east1-b/instances/prod\"')])])])])])])])])])])])])])])])])])\n",
      "INFO:Evaluator:                                                                Tree(addition, [Tree(multiplication, [Tree(unary, [Tree(member, [Tree(member_dot_arg, [Tree(member, [Tree(member_dot, [Tree(member, [Tree(primary, [Tree(ident, [Token(IDENT, 'resource')])])]), Token(IDENT, 'name')])]), Token(IDENT, 'startsWith'), Tree(exprlist, [Tree(expr, [Tree(conditionalor, [Tree(conditionaland, [Tree(relation, [Tree(addition, [Tree(multiplication, [Tree(unary, [Tree(member, [Tree(primary, [Tree(literal, [Token(STRING_LIT, '\"projects/project-123/zones/us-east1-b/instances/prod\"')])])])])])])])])])])])])])])])])\n",
      "INFO:Evaluator:                                                                  Tree(multiplication, [Tree(unary, [Tree(member, [Tree(member_dot_arg, [Tree(member, [Tree(member_dot, [Tree(member, [Tree(primary, [Tree(ident, [Token(IDENT, 'resource')])])]), Token(IDENT, 'name')])]), Token(IDENT, 'startsWith'), Tree(exprlist, [Tree(expr, [Tree(conditionalor, [Tree(conditionaland, [Tree(relation, [Tree(addition, [Tree(multiplication, [Tree(unary, [Tree(member, [Tree(primary, [Tree(literal, [Token(STRING_LIT, '\"projects/project-123/zones/us-east1-b/instances/prod\"')])])])])])])])])])])])])])])])\n",
      "INFO:Evaluator:                                                                    Tree(unary, [Tree(member, [Tree(member_dot_arg, [Tree(member, [Tree(member_dot, [Tree(member, [Tree(primary, [Tree(ident, [Token(IDENT, 'resource')])])]), Token(IDENT, 'name')])]), Token(IDENT, 'startsWith'), Tree(exprlist, [Tree(expr, [Tree(conditionalor, [Tree(conditionaland, [Tree(relation, [Tree(addition, [Tree(multiplication, [Tree(unary, [Tree(member, [Tree(primary, [Tree(literal, [Token(STRING_LIT, '\"projects/project-123/zones/us-east1-b/instances/prod\"')])])])])])])])])])])])])])])\n",
      "INFO:Evaluator:                                                                      Tree(member, [Tree(member_dot_arg, [Tree(member, [Tree(member_dot, [Tree(member, [Tree(primary, [Tree(ident, [Token(IDENT, 'resource')])])]), Token(IDENT, 'name')])]), Token(IDENT, 'startsWith'), Tree(exprlist, [Tree(expr, [Tree(conditionalor, [Tree(conditionaland, [Tree(relation, [Tree(addition, [Tree(multiplication, [Tree(unary, [Tree(member, [Tree(primary, [Tree(literal, [Token(STRING_LIT, '\"projects/project-123/zones/us-east1-b/instances/prod\"')])])])])])])])])])])])])])\n",
      "INFO:Evaluator:                                                                        Tree(member_dot_arg, [Tree(member, [Tree(member_dot, [Tree(member, [Tree(primary, [Tree(ident, [Token(IDENT, 'resource')])])]), Token(IDENT, 'name')])]), Token(IDENT, 'startsWith'), Tree(exprlist, [Tree(expr, [Tree(conditionalor, [Tree(conditionaland, [Tree(relation, [Tree(addition, [Tree(multiplication, [Tree(unary, [Tree(member, [Tree(primary, [Tree(literal, [Token(STRING_LIT, '\"projects/project-123/zones/us-east1-b/instances/prod\"')])])])])])])])])])])])])\n",
      "INFO:Evaluator:                                                                          Tree(member, [Tree(member_dot, [Tree(member, [Tree(primary, [Tree(ident, [Token(IDENT, 'resource')])])]), Token(IDENT, 'name')])])\n",
      "INFO:Evaluator:                                                                            Tree(member_dot, [Tree(member, [Tree(primary, [Tree(ident, [Token(IDENT, 'resource')])])]), Token(IDENT, 'name')])\n",
      "INFO:Evaluator:                                                                            Tree(member, [Tree(primary, [Tree(ident, [Token(IDENT, 'resource')])])])\n",
      "INFO:Evaluator:                                                                              Tree(primary, [Tree(ident, [Token(IDENT, 'resource')])])\n",
      "INFO:evaluation:resolve_name(None.'resource') in dict_keys(['resource'])\n",
      "INFO:Evaluator:                                                                              primary -> MapType({StringType('creationTimestamp'): StringType('2018-07-06T05:04:03Z'), StringType('deleteProtection'): BoolType(False), StringType('name'): StringType('projects/project-123/zones/us-east1-b/instances/dev/ec2'), StringType('instanceSize'): StringType('m1.standard')})\n",
      "INFO:Evaluator:                                                                            member -> MapType({StringType('creationTimestamp'): StringType('2018-07-06T05:04:03Z'), StringType('deleteProtection'): BoolType(False), StringType('name'): StringType('projects/project-123/zones/us-east1-b/instances/dev/ec2'), StringType('instanceSize'): StringType('m1.standard')})\n",
      "INFO:Evaluator:                                                                            member_dot -> StringType('projects/project-123/zones/us-east1-b/instances/dev/ec2')\n",
      "INFO:Evaluator:                                                                          member -> StringType('projects/project-123/zones/us-east1-b/instances/dev/ec2')\n",
      "INFO:Evaluator:                                                                          Tree(exprlist, [Tree(expr, [Tree(conditionalor, [Tree(conditionaland, [Tree(relation, [Tree(addition, [Tree(multiplication, [Tree(unary, [Tree(member, [Tree(primary, [Tree(literal, [Token(STRING_LIT, '\"projects/project-123/zones/us-east1-b/instances/prod\"')])])])])])])])])])])])\n",
      "INFO:Evaluator:                                                                            Tree(expr, [Tree(conditionalor, [Tree(conditionaland, [Tree(relation, [Tree(addition, [Tree(multiplication, [Tree(unary, [Tree(member, [Tree(primary, [Tree(literal, [Token(STRING_LIT, '\"projects/project-123/zones/us-east1-b/instances/prod\"')])])])])])])])])])])\n",
      "INFO:Evaluator:                                                                              Tree(conditionalor, [Tree(conditionaland, [Tree(relation, [Tree(addition, [Tree(multiplication, [Tree(unary, [Tree(member, [Tree(primary, [Tree(literal, [Token(STRING_LIT, '\"projects/project-123/zones/us-east1-b/instances/prod\"')])])])])])])])])])\n",
      "INFO:Evaluator:                                                                                Tree(conditionaland, [Tree(relation, [Tree(addition, [Tree(multiplication, [Tree(unary, [Tree(member, [Tree(primary, [Tree(literal, [Token(STRING_LIT, '\"projects/project-123/zones/us-east1-b/instances/prod\"')])])])])])])])])\n",
      "INFO:Evaluator:                                                                                  Tree(relation, [Tree(addition, [Tree(multiplication, [Tree(unary, [Tree(member, [Tree(primary, [Tree(literal, [Token(STRING_LIT, '\"projects/project-123/zones/us-east1-b/instances/prod\"')])])])])])])])\n",
      "INFO:Evaluator:                                                                                    Tree(addition, [Tree(multiplication, [Tree(unary, [Tree(member, [Tree(primary, [Tree(literal, [Token(STRING_LIT, '\"projects/project-123/zones/us-east1-b/instances/prod\"')])])])])])])\n",
      "INFO:Evaluator:                                                                                      Tree(multiplication, [Tree(unary, [Tree(member, [Tree(primary, [Tree(literal, [Token(STRING_LIT, '\"projects/project-123/zones/us-east1-b/instances/prod\"')])])])])])\n",
      "INFO:Evaluator:                                                                                        Tree(unary, [Tree(member, [Tree(primary, [Tree(literal, [Token(STRING_LIT, '\"projects/project-123/zones/us-east1-b/instances/prod\"')])])])])\n",
      "INFO:Evaluator:                                                                                          Tree(member, [Tree(primary, [Tree(literal, [Token(STRING_LIT, '\"projects/project-123/zones/us-east1-b/instances/prod\"')])])])\n",
      "INFO:Evaluator:                                                                                            Tree(primary, [Tree(literal, [Token(STRING_LIT, '\"projects/project-123/zones/us-east1-b/instances/prod\"')])])\n",
      "INFO:Evaluator:                                                                                              Tree(literal, [Token(STRING_LIT, '\"projects/project-123/zones/us-east1-b/instances/prod\"')])\n",
      "INFO:Evaluator:                                                                                              literal -> StringType('projects/project-123/zones/us-east1-b/instances/prod')\n",
      "INFO:Evaluator:                                                                                            primary -> StringType('projects/project-123/zones/us-east1-b/instances/prod')\n",
      "INFO:Evaluator:                                                                                          member -> StringType('projects/project-123/zones/us-east1-b/instances/prod')\n",
      "INFO:Evaluator:                                                                                        unary -> StringType('projects/project-123/zones/us-east1-b/instances/prod')\n",
      "INFO:Evaluator:                                                                                      multiplication -> StringType('projects/project-123/zones/us-east1-b/instances/prod')\n",
      "INFO:Evaluator:                                                                                    addition -> StringType('projects/project-123/zones/us-east1-b/instances/prod')\n",
      "INFO:Evaluator:                                                                                  relation -> StringType('projects/project-123/zones/us-east1-b/instances/prod')\n",
      "INFO:Evaluator:                                                                                conditionaland -> StringType('projects/project-123/zones/us-east1-b/instances/prod')\n",
      "INFO:Evaluator:                                                                              conditionalor -> StringType('projects/project-123/zones/us-east1-b/instances/prod')\n",
      "INFO:Evaluator:                                                                            expr -> StringType('projects/project-123/zones/us-east1-b/instances/prod')\n",
      "INFO:Evaluator:                                                                          exprlist -> ListType([StringType('projects/project-123/zones/us-east1-b/instances/prod')])\n",
      "INFO:Evaluator:                                                                        member_dot_arg -> BoolType(False)\n",
      "INFO:Evaluator:                                                                      member -> BoolType(False)\n",
      "INFO:Evaluator:                                                                    unary -> BoolType(False)\n",
      "INFO:Evaluator:                                                                  multiplication -> BoolType(False)\n",
      "INFO:Evaluator:                                                                addition -> BoolType(False)\n",
      "INFO:Evaluator:                                                              relation -> BoolType(False)\n",
      "INFO:Evaluator:                                                            conditionaland -> BoolType(False)\n",
      "INFO:Evaluator:                                                          conditionalor -> BoolType(False)\n",
      "INFO:Evaluator:                                                        expr -> BoolType(False)\n",
      "INFO:Evaluator:                                                      primary -> BoolType(False)\n",
      "INFO:Evaluator:                                                    member -> BoolType(False)\n",
      "INFO:Evaluator:                                                  unary -> BoolType(False)\n",
      "INFO:Evaluator:                                                multiplication -> BoolType(False)\n",
      "INFO:Evaluator:                                              addition -> BoolType(False)\n",
      "INFO:Evaluator:                                            relation -> BoolType(False)\n",
      "INFO:Evaluator:                                          conditionaland -> BoolType(False)\n",
      "INFO:Evaluator:                                        conditionalor -> BoolType(True)\n",
      "INFO:Evaluator:                                      expr -> BoolType(True)\n",
      "INFO:Evaluator:                                    primary -> BoolType(True)\n",
      "INFO:Evaluator:                                  member -> BoolType(True)\n",
      "INFO:Evaluator:                                unary -> BoolType(True)\n",
      "INFO:Evaluator:                              multiplication -> BoolType(True)\n",
      "INFO:Evaluator:                            addition -> BoolType(True)\n",
      "INFO:Evaluator:                          relation -> BoolType(True)\n",
      "INFO:Evaluator:                        conditionaland -> BoolType(True)\n",
      "INFO:Evaluator:                        Tree(relation, [Tree(relation_eq, [Tree(relation, [Tree(addition, [Tree(multiplication, [Tree(unary, [Tree(member, [Tree(member_dot, [Tree(member, [Tree(primary, [Tree(ident, [Token(IDENT, 'resource')])])]), Token(IDENT, 'instanceSize')])])])])])])]), Tree(addition, [Tree(multiplication, [Tree(unary, [Tree(member, [Tree(primary, [Tree(literal, [Token(STRING_LIT, '\"m1.standard\"')])])])])])])])\n",
      "INFO:Evaluator:                            Tree(relation, [Tree(addition, [Tree(multiplication, [Tree(unary, [Tree(member, [Tree(member_dot, [Tree(member, [Tree(primary, [Tree(ident, [Token(IDENT, 'resource')])])]), Token(IDENT, 'instanceSize')])])])])])])\n",
      "INFO:Evaluator:                              Tree(addition, [Tree(multiplication, [Tree(unary, [Tree(member, [Tree(member_dot, [Tree(member, [Tree(primary, [Tree(ident, [Token(IDENT, 'resource')])])]), Token(IDENT, 'instanceSize')])])])])])\n",
      "INFO:Evaluator:                                Tree(multiplication, [Tree(unary, [Tree(member, [Tree(member_dot, [Tree(member, [Tree(primary, [Tree(ident, [Token(IDENT, 'resource')])])]), Token(IDENT, 'instanceSize')])])])])\n",
      "INFO:Evaluator:                                  Tree(unary, [Tree(member, [Tree(member_dot, [Tree(member, [Tree(primary, [Tree(ident, [Token(IDENT, 'resource')])])]), Token(IDENT, 'instanceSize')])])])\n",
      "INFO:Evaluator:                                    Tree(member, [Tree(member_dot, [Tree(member, [Tree(primary, [Tree(ident, [Token(IDENT, 'resource')])])]), Token(IDENT, 'instanceSize')])])\n",
      "INFO:Evaluator:                                      Tree(member_dot, [Tree(member, [Tree(primary, [Tree(ident, [Token(IDENT, 'resource')])])]), Token(IDENT, 'instanceSize')])\n",
      "INFO:Evaluator:                                      Tree(member, [Tree(primary, [Tree(ident, [Token(IDENT, 'resource')])])])\n",
      "INFO:Evaluator:                                        Tree(primary, [Tree(ident, [Token(IDENT, 'resource')])])\n",
      "INFO:evaluation:resolve_name(None.'resource') in dict_keys(['resource'])\n",
      "INFO:Evaluator:                                        primary -> MapType({StringType('creationTimestamp'): StringType('2018-07-06T05:04:03Z'), StringType('deleteProtection'): BoolType(False), StringType('name'): StringType('projects/project-123/zones/us-east1-b/instances/dev/ec2'), StringType('instanceSize'): StringType('m1.standard')})\n",
      "INFO:Evaluator:                                      member -> MapType({StringType('creationTimestamp'): StringType('2018-07-06T05:04:03Z'), StringType('deleteProtection'): BoolType(False), StringType('name'): StringType('projects/project-123/zones/us-east1-b/instances/dev/ec2'), StringType('instanceSize'): StringType('m1.standard')})\n",
      "INFO:Evaluator:                                      member_dot -> StringType('m1.standard')\n",
      "INFO:Evaluator:                                    member -> StringType('m1.standard')\n",
      "INFO:Evaluator:                                  unary -> StringType('m1.standard')\n",
      "INFO:Evaluator:                                multiplication -> StringType('m1.standard')\n",
      "INFO:Evaluator:                              addition -> StringType('m1.standard')\n",
      "INFO:Evaluator:                            relation -> StringType('m1.standard')\n",
      "INFO:Evaluator:                          Tree(addition, [Tree(multiplication, [Tree(unary, [Tree(member, [Tree(primary, [Tree(literal, [Token(STRING_LIT, '\"m1.standard\"')])])])])])])\n",
      "INFO:Evaluator:                            Tree(multiplication, [Tree(unary, [Tree(member, [Tree(primary, [Tree(literal, [Token(STRING_LIT, '\"m1.standard\"')])])])])])\n",
      "INFO:Evaluator:                              Tree(unary, [Tree(member, [Tree(primary, [Tree(literal, [Token(STRING_LIT, '\"m1.standard\"')])])])])\n",
      "INFO:Evaluator:                                Tree(member, [Tree(primary, [Tree(literal, [Token(STRING_LIT, '\"m1.standard\"')])])])\n",
      "INFO:Evaluator:                                  Tree(primary, [Tree(literal, [Token(STRING_LIT, '\"m1.standard\"')])])\n",
      "INFO:Evaluator:                                    Tree(literal, [Token(STRING_LIT, '\"m1.standard\"')])\n",
      "INFO:Evaluator:                                    literal -> StringType('m1.standard')\n",
      "INFO:Evaluator:                                  primary -> StringType('m1.standard')\n",
      "INFO:Evaluator:                                member -> StringType('m1.standard')\n",
      "INFO:Evaluator:                              unary -> StringType('m1.standard')\n",
      "INFO:Evaluator:                            multiplication -> StringType('m1.standard')\n",
      "INFO:Evaluator:                          addition -> StringType('m1.standard')\n",
      "INFO:Evaluator:                        relation -> BoolType(True)\n",
      "INFO:Evaluator:                      conditionaland -> BoolType(True)\n",
      "INFO:Evaluator:                    conditionalor -> BoolType(True)\n",
      "INFO:Evaluator:                  expr -> BoolType(True)\n",
      "INFO:Evaluator:                primary -> BoolType(True)\n",
      "INFO:Evaluator:              member -> BoolType(True)\n",
      "INFO:Evaluator:            unary -> BoolType(True)\n",
      "INFO:Evaluator:          multiplication -> BoolType(True)\n",
      "INFO:Evaluator:        addition -> BoolType(True)\n",
      "INFO:Evaluator:      relation -> BoolType(True)\n",
      "INFO:Evaluator:    conditionaland -> CELEvalError(\"found no matching overload for 'relation_lt' applied to '(<class 'celpy.celtypes.StringType'>, <class 'celpy.celtypes.TimestampType'>)'\", <class 'TypeError'>, (\"'<' not supported between instances of 'StringType' and 'TimestampType'\",))\n",
      "INFO:Evaluator:  conditionalor -> CELEvalError(\"found no matching overload for 'relation_lt' applied to '(<class 'celpy.celtypes.StringType'>, <class 'celpy.celtypes.TimestampType'>)'\", <class 'TypeError'>, (\"'<' not supported between instances of 'StringType' and 'TimestampType'\",))\n",
      "INFO:Evaluator:expr -> CELEvalError(\"found no matching overload for 'relation_lt' applied to '(<class 'celpy.celtypes.StringType'>, <class 'celpy.celtypes.TimestampType'>)'\", <class 'TypeError'>, (\"'<' not supported between instances of 'StringType' and 'TimestampType'\",))\n"
     ]
    },
    {
     "ename": "CELEvalError",
     "evalue": "(\"found no matching overload for 'relation_lt' applied to '(<class 'celpy.celtypes.StringType'>, <class 'celpy.celtypes.TimestampType'>)'\", <class 'TypeError'>, (\"'<' not supported between instances of 'StringType' and 'TimestampType'\",))",
     "output_type": "error",
     "traceback": [
      "\u001b[0;31m---------------------------------------------------------------------------\u001b[0m",
      "\u001b[0;31mTypeError\u001b[0m                                 Traceback (most recent call last)",
      "\u001b[0;32m~/Documents/C7N/cel-python/src/celpy/evaluation.py\u001b[0m in \u001b[0;36mrelation\u001b[0;34m(self, tree)\u001b[0m\n\u001b[1;32m    969\u001b[0m             \u001b[0;32mtry\u001b[0m\u001b[0;34m:\u001b[0m\u001b[0;34m\u001b[0m\u001b[0;34m\u001b[0m\u001b[0m\n\u001b[0;32m--> 970\u001b[0;31m                 \u001b[0;32mreturn\u001b[0m \u001b[0mfunc\u001b[0m\u001b[0;34m(\u001b[0m\u001b[0mleft\u001b[0m\u001b[0;34m,\u001b[0m \u001b[0mright\u001b[0m\u001b[0;34m)\u001b[0m\u001b[0;34m\u001b[0m\u001b[0;34m\u001b[0m\u001b[0m\n\u001b[0m\u001b[1;32m    971\u001b[0m             \u001b[0;32mexcept\u001b[0m \u001b[0mTypeError\u001b[0m \u001b[0;32mas\u001b[0m \u001b[0mex\u001b[0m\u001b[0;34m:\u001b[0m\u001b[0;34m\u001b[0m\u001b[0;34m\u001b[0m\u001b[0m\n",
      "\u001b[0;32m~/Documents/C7N/cel-python/src/celpy/evaluation.py\u001b[0m in \u001b[0;36mbool_function\u001b[0;34m(a, b)\u001b[0m\n\u001b[1;32m    219\u001b[0m     \u001b[0;32mdef\u001b[0m \u001b[0mbool_function\u001b[0m\u001b[0;34m(\u001b[0m\u001b[0ma\u001b[0m\u001b[0;34m:\u001b[0m \u001b[0mcelpy\u001b[0m\u001b[0;34m.\u001b[0m\u001b[0mceltypes\u001b[0m\u001b[0;34m.\u001b[0m\u001b[0mValue\u001b[0m\u001b[0;34m,\u001b[0m \u001b[0mb\u001b[0m\u001b[0;34m:\u001b[0m \u001b[0mcelpy\u001b[0m\u001b[0;34m.\u001b[0m\u001b[0mceltypes\u001b[0m\u001b[0;34m.\u001b[0m\u001b[0mValue\u001b[0m\u001b[0;34m)\u001b[0m \u001b[0;34m->\u001b[0m \u001b[0mcelpy\u001b[0m\u001b[0;34m.\u001b[0m\u001b[0mceltypes\u001b[0m\u001b[0;34m.\u001b[0m\u001b[0mBoolType\u001b[0m\u001b[0;34m:\u001b[0m\u001b[0;34m\u001b[0m\u001b[0;34m\u001b[0m\u001b[0m\n\u001b[0;32m--> 220\u001b[0;31m         \u001b[0mresult\u001b[0m \u001b[0;34m=\u001b[0m \u001b[0mfunction\u001b[0m\u001b[0;34m(\u001b[0m\u001b[0ma\u001b[0m\u001b[0;34m,\u001b[0m \u001b[0mb\u001b[0m\u001b[0;34m)\u001b[0m\u001b[0;34m\u001b[0m\u001b[0;34m\u001b[0m\u001b[0m\n\u001b[0m\u001b[1;32m    221\u001b[0m         \u001b[0;32mif\u001b[0m \u001b[0mresult\u001b[0m \u001b[0;34m==\u001b[0m \u001b[0mNotImplemented\u001b[0m\u001b[0;34m:\u001b[0m\u001b[0;34m\u001b[0m\u001b[0;34m\u001b[0m\u001b[0m\n",
      "\u001b[0;31mTypeError\u001b[0m: '<' not supported between instances of 'StringType' and 'TimestampType'",
      "\nThe above exception was the direct cause of the following exception:\n",
      "\u001b[0;31mCELEvalError\u001b[0m                              Traceback (most recent call last)",
      "\u001b[0;32m<ipython-input-42-adb570246f8d>\u001b[0m in \u001b[0;36m<module>\u001b[0;34m\u001b[0m\n\u001b[0;32m----> 1\u001b[0;31m \u001b[0mprgm\u001b[0m\u001b[0;34m.\u001b[0m\u001b[0mevaluate\u001b[0m\u001b[0;34m(\u001b[0m\u001b[0;34m{\u001b[0m\u001b[0;34m'resource'\u001b[0m\u001b[0;34m:\u001b[0m \u001b[0mresource\u001b[0m\u001b[0;34m}\u001b[0m\u001b[0;34m)\u001b[0m\u001b[0;34m\u001b[0m\u001b[0;34m\u001b[0m\u001b[0m\n\u001b[0m",
      "\u001b[0;32m~/Documents/C7N/cel-python/src/celpy/__init__.py\u001b[0m in \u001b[0;36mevaluate\u001b[0;34m(self, context)\u001b[0m\n\u001b[1;32m    226\u001b[0m             \u001b[0mfunctions\u001b[0m\u001b[0;34m=\u001b[0m\u001b[0mself\u001b[0m\u001b[0;34m.\u001b[0m\u001b[0mfunctions\u001b[0m\u001b[0;34m\u001b[0m\u001b[0;34m\u001b[0m\u001b[0m\n\u001b[1;32m    227\u001b[0m         )\n\u001b[0;32m--> 228\u001b[0;31m         \u001b[0mvalue\u001b[0m \u001b[0;34m=\u001b[0m \u001b[0me\u001b[0m\u001b[0;34m.\u001b[0m\u001b[0mevaluate\u001b[0m\u001b[0;34m(\u001b[0m\u001b[0;34m)\u001b[0m\u001b[0;34m\u001b[0m\u001b[0;34m\u001b[0m\u001b[0m\n\u001b[0m\u001b[1;32m    229\u001b[0m         \u001b[0;32mreturn\u001b[0m \u001b[0mvalue\u001b[0m\u001b[0;34m\u001b[0m\u001b[0;34m\u001b[0m\u001b[0m\n\u001b[1;32m    230\u001b[0m \u001b[0;34m\u001b[0m\u001b[0m\n",
      "\u001b[0;32m~/Documents/C7N/cel-python/src/celpy/evaluation.py\u001b[0m in \u001b[0;36mevaluate\u001b[0;34m(self)\u001b[0m\n\u001b[1;32m    700\u001b[0m         \u001b[0mvalue\u001b[0m \u001b[0;34m=\u001b[0m \u001b[0mcast\u001b[0m\u001b[0;34m(\u001b[0m\u001b[0mResult\u001b[0m\u001b[0;34m,\u001b[0m \u001b[0mself\u001b[0m\u001b[0;34m.\u001b[0m\u001b[0mvisit\u001b[0m\u001b[0;34m(\u001b[0m\u001b[0mself\u001b[0m\u001b[0;34m.\u001b[0m\u001b[0mast\u001b[0m\u001b[0;34m)\u001b[0m\u001b[0;34m)\u001b[0m\u001b[0;34m\u001b[0m\u001b[0;34m\u001b[0m\u001b[0m\n\u001b[1;32m    701\u001b[0m         \u001b[0;32mif\u001b[0m \u001b[0misinstance\u001b[0m\u001b[0;34m(\u001b[0m\u001b[0mvalue\u001b[0m\u001b[0;34m,\u001b[0m \u001b[0mCELEvalError\u001b[0m\u001b[0;34m)\u001b[0m\u001b[0;34m:\u001b[0m\u001b[0;34m\u001b[0m\u001b[0;34m\u001b[0m\u001b[0m\n\u001b[0;32m--> 702\u001b[0;31m             \u001b[0;32mraise\u001b[0m \u001b[0mvalue\u001b[0m\u001b[0;34m\u001b[0m\u001b[0;34m\u001b[0m\u001b[0m\n\u001b[0m\u001b[1;32m    703\u001b[0m         \u001b[0;32mreturn\u001b[0m \u001b[0mcast\u001b[0m\u001b[0;34m(\u001b[0m\u001b[0mcelpy\u001b[0m\u001b[0;34m.\u001b[0m\u001b[0mceltypes\u001b[0m\u001b[0;34m.\u001b[0m\u001b[0mValue\u001b[0m\u001b[0;34m,\u001b[0m \u001b[0mvalue\u001b[0m\u001b[0;34m)\u001b[0m\u001b[0;34m\u001b[0m\u001b[0;34m\u001b[0m\u001b[0m\n\u001b[1;32m    704\u001b[0m \u001b[0;34m\u001b[0m\u001b[0m\n",
      "\u001b[0;31mCELEvalError\u001b[0m: (\"found no matching overload for 'relation_lt' applied to '(<class 'celpy.celtypes.StringType'>, <class 'celpy.celtypes.TimestampType'>)'\", <class 'TypeError'>, (\"'<' not supported between instances of 'StringType' and 'TimestampType'\",))"
     ]
    }
   ],
   "source": [
    "prgm.evaluate({'resource': resource})"
   ]
  },
  {
   "cell_type": "code",
   "execution_count": null,
   "metadata": {},
   "outputs": [],
   "source": []
  }
 ],
 "metadata": {
  "kernelspec": {
   "display_name": "Python 3",
   "language": "python",
   "name": "python3"
  },
  "language_info": {
   "codemirror_mode": {
    "name": "ipython",
    "version": 3
   },
   "file_extension": ".py",
   "mimetype": "text/x-python",
   "name": "python",
   "nbconvert_exporter": "python",
   "pygments_lexer": "ipython3",
   "version": "3.7.6"
  }
 },
 "nbformat": 4,
 "nbformat_minor": 4
}
