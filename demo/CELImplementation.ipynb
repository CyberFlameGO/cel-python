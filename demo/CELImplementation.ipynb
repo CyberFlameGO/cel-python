{
 "cells": [
  {
   "cell_type": "markdown",
   "metadata": {
    "slideshow": {
     "slide_type": "slide"
    },
    "tags": [
     "Title"
    ]
   },
   "source": [
    "# CEL -- Common Expression Language"
   ]
  },
  {
   "cell_type": "markdown",
   "metadata": {
    "slideshow": {
     "slide_type": "slide"
    }
   },
   "source": [
    "## Agenda\n",
    "\n",
    "- Why CEL?\n",
    "\n",
    "- About CEL\n",
    "\n",
    "- Processing\n",
    "\n",
    "- Implementation Details"
   ]
  },
  {
   "cell_type": "markdown",
   "metadata": {
    "slideshow": {
     "slide_type": "slide"
    }
   },
   "source": [
    "## Why CEL?\n",
    "\n",
    "https://github.com/cloud-custodian/cloud-custodian/issues/5759"
   ]
  },
  {
   "cell_type": "markdown",
   "metadata": {
    "slideshow": {
     "slide_type": "slide"
    }
   },
   "source": [
    "## About CEL\n",
    "\n",
    "- Keep it small & fast.\n",
    "\n",
    "- Make it extensible.\n",
    "\n",
    "- Developer-friendly.  Similar to C/C++/Java/JavaScript."
   ]
  },
  {
   "cell_type": "markdown",
   "metadata": {
    "slideshow": {
     "slide_type": "slide"
    }
   },
   "source": [
    "## Processing\n",
    "\n",
    "1. Text of the expression. ``355. / 113.``\n",
    "\n",
    "2. Abstract Syntax Tree. Created by a `lark` parser.  ``Tree('expr', [Tree('literal', [Token]), Tree('literal', [Token])])``.\n",
    "\n",
    "3. Compiler to produce an executable form. This is Python. Nothing much to do here. \n",
    "\n",
    "4. Context with variables. None for this example.\n",
    "\n",
    "5. Evaluation to apply executable expression to variables to get a response."
   ]
  },
  {
   "cell_type": "code",
   "execution_count": 6,
   "metadata": {
    "slideshow": {
     "slide_type": "slide"
    }
   },
   "outputs": [
    {
     "data": {
      "text/plain": [
       "DoubleType(3.1415929203539825)"
      ]
     },
     "execution_count": 6,
     "metadata": {},
     "output_type": "execute_result"
    }
   ],
   "source": [
    "import celpy\n",
    "env = celpy.Environment()\n",
    "ast = env.compile(\"355. / 113.\")\n",
    "prgm = env.program(ast)\n",
    "prgm.evaluate({})"
   ]
  },
  {
   "cell_type": "markdown",
   "metadata": {
    "slideshow": {
     "slide_type": "slide"
    }
   },
   "source": [
    "## Implementation\n",
    "\n",
    "- Lark used to do two things: Lexical Scanning and Parsing.\n",
    "\n",
    "  -  Lexical Scanning locates language tokens: int, float, identifier, operator, etc.\n",
    "  \n",
    "  -  Parsing recognizes higher-level (possibly recursive) constructs.\n",
    "  \n",
    "- An \"evaluator\" is a Lark ``Interpreter`` subclass.\n",
    "\n",
    "  -  Operators mapped to functions with possible run-time overrides.\n",
    "\n",
    "- Sits on top of ``celtypes`` module with Python implementations of the CEL data types.\n",
    "\n",
    "  -  Provides GO-like semantics"
   ]
  },
  {
   "cell_type": "markdown",
   "metadata": {
    "slideshow": {
     "slide_type": "slide"
    }
   },
   "source": [
    "## Lark EBNF Rules\n",
    "\n",
    "```\n",
    "expr           : conditionalor [\"?\" conditionalor \":\" expr]\n",
    "\n",
    "conditionalor  : [conditionalor \"||\"] conditionaland\n",
    "\n",
    "conditionaland : [conditionaland \"&&\"] relation\n",
    "\n",
    "relation       : [relation_lt | relation_le | relation_ge | relation_gt | relation_eq | relation_ne | relation_in] addition\n",
    "```"
   ]
  },
  {
   "cell_type": "markdown",
   "metadata": {
    "slideshow": {
     "slide_type": "slide"
    }
   },
   "source": [
    "## Lark EBNF Tokens\n",
    "\n",
    "```\n",
    "INT_LIT        : /-?/ /0x/ HEXDIGIT+ | /-?/ DIGIT+\n",
    "\n",
    "UINT_LIT       : INT_LIT /[uU]/\n",
    "```"
   ]
  },
  {
   "cell_type": "markdown",
   "metadata": {
    "slideshow": {
     "slide_type": "slide"
    }
   },
   "source": [
    "## Rule Implementation\n",
    "\n",
    "```\n",
    "    func = self.functions[\"_?_:_\"]\n",
    "    cond_value, left, right = cast(Tuple[Result, Result, Result], self.visit_children(tree))\n",
    "    try:\n",
    "        return func(cond_value, left, right)\n",
    "    except TypeError as ex:\n",
    "        logger.debug(f\"{func.__name__}({left}, {right}) --> {ex}\")\n",
    "        err = (\n",
    "            f\"found no matching overload for _?_:_ \"\n",
    "            f\"applied to '({type(cond_value)}, {type(left)}, {type(right)})'\"\n",
    "        )\n",
    "        value = CELEvalError(err, ex.__class__, ex.args, tree=tree)\n",
    "        value.__cause__ = ex\n",
    "        return value\n",
    "```"
   ]
  },
  {
   "cell_type": "markdown",
   "metadata": {
    "slideshow": {
     "slide_type": "slide"
    }
   },
   "source": [
    "## celtypes\n",
    "\n",
    "A lot of this.\n",
    "\n",
    "```\n",
    "class DoubleType(float):\n",
    "    def __truediv__(self, other: Any) -> 'DoubleType':\n",
    "    if cast(float, other) == 0.0:\n",
    "        return DoubleType(\"inf\")\n",
    "    else:\n",
    "        return DoubleType(super().__truediv__(other))\n",
    "\n",
    "```"
   ]
  },
  {
   "cell_type": "code",
   "execution_count": null,
   "metadata": {
    "slideshow": {
     "slide_type": "skip"
    }
   },
   "outputs": [],
   "source": []
  }
 ],
 "metadata": {
  "kernelspec": {
   "display_name": "Python 3",
   "language": "python",
   "name": "python3"
  },
  "language_info": {
   "codemirror_mode": {
    "name": "ipython",
    "version": 3
   },
   "file_extension": ".py",
   "mimetype": "text/x-python",
   "name": "python",
   "nbconvert_exporter": "python",
   "pygments_lexer": "ipython3",
   "version": "3.7.6"
  }
 },
 "nbformat": 4,
 "nbformat_minor": 4
}
