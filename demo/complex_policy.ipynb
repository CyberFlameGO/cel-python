{
 "cells": [
  {
   "cell_type": "markdown",
   "metadata": {},
   "source": [
    "# A `value_from:` Policy"
   ]
  },
  {
   "cell_type": "code",
   "execution_count": 2,
   "metadata": {},
   "outputs": [],
   "source": [
    "policy_text = \"\"\"\n",
    "name: asg-invalid-asv-value-mark\n",
    "resource: asg\n",
    "comment: 'Report on any ASGs that use an ASV that isn''t valid.\n",
    "\n",
    "  '\n",
    "filters:\n",
    "- tag:custodian_asv: absent\n",
    "- key: CreatedTime\n",
    "  op: greater-than\n",
    "  type: value\n",
    "  value: 0.011\n",
    "  value_type: age\n",
    "- key: tag:ASV\n",
    "  op: not-in\n",
    "  type: value\n",
    "  value_from:\n",
    "    expr: all_values.*\n",
    "    format: json\n",
    "    url: s3://fs-cloud-governance/custodian/asv_list.json\n",
    "actions:\n",
    "- tag: custodian_asv\n",
    "  type: tag\n",
    "  value: AutoScaling Group does not have a valid ASV tag value\n",
    "- action_desc: The ASV tag should be updated, both on the ASG and in any template\n",
    "    or config files.\n",
    "  cc:\n",
    "  - FSCustodianNotifications@capitalone.com\n",
    "  from: FSCustodianNotifications@capitalone.com\n",
    "  policy_url: https://pulse.kdc.capitalone.com/docs/DOC-138928\n",
    "  subject: '[custodian][{{ account }}] AutoScaling Group with invalid ASV value -\n",
    "    {{ region }}'\n",
    "  template: fs-default.html\n",
    "  to:\n",
    "  - resource-owner\n",
    "  transport:\n",
    "    topic: arn:aws:sns:{region}:123456789012:c7n-notifications\n",
    "    type: sns\n",
    "  type: notify\n",
    "  violation_desc: 'The following AutoScaling Group(s) are tagged with an invalid ASV\n",
    "    value:'\n",
    "\"\"\""
   ]
  },
  {
   "cell_type": "code",
   "execution_count": 86,
   "metadata": {},
   "outputs": [
    {
     "name": "stdout",
     "output_type": "stream",
     "text": [
      "absent(Resource[\"Tags\"].filter(x, x[\"Key\"] == \"custodian_asv\")[0][\"Value\"]) && Now - duration(\"15m50s\") > timestamp(Resource[\"CreatedTime\"]) && ! value_from(\"s3://fs-cloud-governance/custodian/asv_list.json\", \"json\").jmes_path('all_values.*').contains(Resource[\"Tags\"].filter(x, x[\"Key\"] == \"ASV\")[0][\"Value\"])\n"
     ]
    }
   ],
   "source": [
    "from xlate.c7n_to_cel import C7N_Rewriter\n",
    "cel_text = C7N_Rewriter.c7n_rewrite(policy_text)\n",
    "print(cel_text)"
   ]
  },
  {
   "cell_type": "markdown",
   "metadata": {},
   "source": [
    "Reformatting:\n",
    "\n",
    "    absent(Resource[\"Tags\"].filter(x, x[\"Key\"] == \"custodian_asv\")[0][\"Value\"]) \n",
    "    && Now - duration(\"15m50s\") > timestamp(Resource[\"CreatedTime\"]) \n",
    "    && ! value_from(\"s3://fs-cloud-governance/custodian/asv_list.json\", \"json\")\n",
    "        .jmes_path('all_values.*').contains(\n",
    "            Resource[\"Tags\"].filter(x, x[\"Key\"] == \"ASV\")[0][\"Value\"]\n",
    "        )"
   ]
  },
  {
   "cell_type": "markdown",
   "metadata": {},
   "source": [
    "How can we test with `value_from`?? Do we really need access to an S3? \n",
    "\n",
    "It turns out, we can provide our own extension function that provides appropriate test data. We can replace the `value_from()` function."
   ]
  },
  {
   "cell_type": "code",
   "execution_count": 93,
   "metadata": {},
   "outputs": [],
   "source": [
    "import celpy.celtypes\n",
    "from celpy.adapter import json_to_cel\n",
    "\n",
    "def my_value_from(url, format):\n",
    "    print(f\"Reading {url} in {format}\")\n",
    "    the_document = {\"all_values\": {\"name\": \"in_the_list\"}}\n",
    "    return json_to_cel(the_document)"
   ]
  },
  {
   "cell_type": "markdown",
   "metadata": {},
   "source": [
    "We can update `c7nlib.FUNCTIONS` with the new function."
   ]
  },
  {
   "cell_type": "code",
   "execution_count": 94,
   "metadata": {},
   "outputs": [],
   "source": [
    "import celpy.c7nlib\n",
    "my_functions = celpy.c7nlib.FUNCTIONS\n",
    "my_functions[\"value_from\"] = my_value_from"
   ]
  },
  {
   "cell_type": "markdown",
   "metadata": {},
   "source": [
    "Now, we can "
   ]
  },
  {
   "cell_type": "code",
   "execution_count": 95,
   "metadata": {},
   "outputs": [],
   "source": [
    "import celpy\n",
    "decls = {\n",
    "    \"Resource\": celpy.celtypes.MapType,\n",
    "    \"Now\": celpy.celtypes.TimestampType,\n",
    "}\n",
    "env = celpy.Environment(annotations=decls)\n",
    "ast = env.compile(cel_text)\n",
    "# Bind my_functions with the CEL code...\n",
    "prgm = env.program(ast, functions=my_functions)"
   ]
  },
  {
   "cell_type": "code",
   "execution_count": 96,
   "metadata": {},
   "outputs": [
    {
     "name": "stdout",
     "output_type": "stream",
     "text": [
      "Reading s3://fs-cloud-governance/custodian/asv_list.json in json\n"
     ]
    },
    {
     "data": {
      "text/plain": [
       "BoolType(False)"
      ]
     },
     "execution_count": 96,
     "metadata": {},
     "output_type": "execute_result"
    }
   ],
   "source": [
    "sample_doc_in = {\n",
    "    \"Tags\": [\n",
    "        {\"Key\": \"ASV\", \"Value\": \"in_the_list\"},\n",
    "    ],\n",
    "    \"CreatedTime\": \"2020-10-17T18:00:00Z\"\n",
    "}\n",
    "activation_in = {\n",
    "    \"Resource\": celpy.adapter.json_to_cel(sample_doc_in),\n",
    "    \"Now\": celpy.celtypes.TimestampType(\"2020-10-17T18:19:20Z\"),\n",
    "}\n",
    "result = prgm.evaluate(activation_in)\n",
    "result"
   ]
  },
  {
   "cell_type": "code",
   "execution_count": 97,
   "metadata": {},
   "outputs": [
    {
     "name": "stdout",
     "output_type": "stream",
     "text": [
      "Reading s3://fs-cloud-governance/custodian/asv_list.json in json\n"
     ]
    },
    {
     "data": {
      "text/plain": [
       "BoolType(False)"
      ]
     },
     "execution_count": 97,
     "metadata": {},
     "output_type": "execute_result"
    }
   ],
   "source": [
    "sample_doc_not_in = {\n",
    "    \"Tags\": [\n",
    "        {\"Key\": \"ASV\", \"Value\": \"not_in_the_list\"},\n",
    "    ],\n",
    "    \"CreatedTime\": \"2020-10-17T18:00:00Z\"\n",
    "}\n",
    "activation_in = {\n",
    "    \"Resource\": celpy.adapter.json_to_cel(sample_doc_in),\n",
    "    \"Now\": celpy.celtypes.TimestampType(\"2020-10-17T18:19:20Z\"),\n",
    "}\n",
    "result = prgm.evaluate(activation_in)\n",
    "result"
   ]
  },
  {
   "cell_type": "markdown",
   "metadata": {},
   "source": [
    "## Debugging Approach\n",
    "\n",
    "Breaking the CEL (or the resource description) into pieces, and evaluating each piece."
   ]
  },
  {
   "cell_type": "code",
   "execution_count": 98,
   "metadata": {},
   "outputs": [
    {
     "name": "stdout",
     "output_type": "stream",
     "text": [
      "Reading s3://fs-cloud-governance/custodian/asv_list.json in json\n"
     ]
    },
    {
     "data": {
      "text/plain": [
       "MapType({StringType('all_values'): MapType({StringType('name'): StringType('in_the_list')})})"
      ]
     },
     "execution_count": 98,
     "metadata": {},
     "output_type": "execute_result"
    }
   ],
   "source": [
    "jmes_path_cel_1 = \"\"\"\n",
    "value_from(\"s3://fs-cloud-governance/custodian/asv_list.json\", \"json\")\n",
    "\"\"\"\n",
    "ast = env.compile(jmes_path_cel_1)\n",
    "# Bind my functions with the CEL code\n",
    "my_functions = celpy.c7nlib.FUNCTIONS\n",
    "my_functions[\"value_from\"] = my_value_from\n",
    "prgm = env.program(ast, functions=my_functions)\n",
    "result = prgm.evaluate(context={})\n",
    "result"
   ]
  },
  {
   "cell_type": "code",
   "execution_count": 99,
   "metadata": {},
   "outputs": [
    {
     "name": "stdout",
     "output_type": "stream",
     "text": [
      "Reading s3://fs-cloud-governance/custodian/asv_list.json in json\n"
     ]
    },
    {
     "data": {
      "text/plain": [
       "ListType([StringType('in_the_list')])"
      ]
     },
     "execution_count": 99,
     "metadata": {},
     "output_type": "execute_result"
    }
   ],
   "source": [
    "jmes_path_cel_2 = \"\"\"\n",
    "value_from(\"s3://fs-cloud-governance/custodian/asv_list.json\", \"json\")\n",
    ".jmes_path('all_values.*')\n",
    "\"\"\"\n",
    "ast = env.compile(jmes_path_cel_2)\n",
    "# Bind my functions with the CEL code\n",
    "my_functions = celpy.c7nlib.FUNCTIONS\n",
    "my_functions[\"value_from\"] = my_value_from\n",
    "prgm = env.program(ast, functions=my_functions)\n",
    "result = prgm.evaluate(context={})\n",
    "result"
   ]
  },
  {
   "cell_type": "code",
   "execution_count": 100,
   "metadata": {},
   "outputs": [
    {
     "name": "stdout",
     "output_type": "stream",
     "text": [
      "Reading s3://fs-cloud-governance/custodian/asv_list.json in json\n"
     ]
    },
    {
     "data": {
      "text/plain": [
       "BoolType(True)"
      ]
     },
     "execution_count": 100,
     "metadata": {},
     "output_type": "execute_result"
    }
   ],
   "source": [
    "jmes_path_cel_3 = \"\"\"\n",
    "value_from(\"s3://fs-cloud-governance/custodian/asv_list.json\", \"json\")\n",
    ".jmes_path('all_values.*').contains(\"in_the_list\")\n",
    "\"\"\"\n",
    "ast = env.compile(jmes_path_cel_3)\n",
    "# Bind my functions with the CEL code\n",
    "my_functions = celpy.c7nlib.FUNCTIONS\n",
    "my_functions[\"value_from\"] = my_value_from\n",
    "prgm = env.program(ast, functions=my_functions)\n",
    "result = prgm.evaluate(context={})\n",
    "result"
   ]
  },
  {
   "cell_type": "markdown",
   "metadata": {},
   "source": [
    "# Using `c7nlib` -- Future Feature\n",
    "\n",
    "This will require C7N installed locally. We don't really need **all** of custodian, but it's hard to break it into pieces. So. Get the Cloud Custodian Rule Engine. \n",
    "\n",
    "Set your `PYTHONPATH` to include CEL **AND** C7N.\n",
    "\n",
    "We will rely on a plug-in to C7N. This will expose some features so CEL expressions can make use of them.\n",
    "\n",
    "We're going to write a `CELFilter` subclass of `Filter`. This will require refactoring several existing filters\n",
    "to pull code into mixin class definitions that can be shared by legacy filters and `CELFilter`. \n",
    "\n",
    "The code *should* look something like this:\n",
    "\n",
    "     class CELFilter(Filter):\n",
    "        \"\"\"\n",
    "        State a filter as a CEL expression.\n",
    "\n",
    "        The activation environment for CEL has all the functions in ``c7nlib``.\n",
    "\n",
    "        It also includes three global objects:\n",
    "\n",
    "        -   ``Resource`` the cloud resource to be examined.\n",
    "\n",
    "        -   ``Now`` the current time as a CEL timestamp.\n",
    "\n",
    "        -   ``Event`` an Event for those resources where the C7N check is triggered by a CloudWatch event.\n",
    "\n",
    "        \"\"\"\n",
    "\n",
    "        schema = type_schema(\n",
    "            'cel',\n",
    "            'type': {'enum': ['cel']},\n",
    "            'expr': {'type': 'string'}\n",
    "        )\n",
    "\n",
    "        def __init__(self, data, manager):\n",
    "            super(Missing, self).__init__(data, manager)\n",
    "\n",
    "        def get_instance_image(self, resource): pass\n",
    "\n",
    "        def get_related_ids(self, resource): pass\n",
    "\n",
    "        def get_related(self, resource): pass\n",
    "\n",
    "        def get_credential_report(self): pass\n",
    "\n",
    "        def get_matching_aliases(self): pass\n",
    "        \n",
    "There will be more. We're working on it."
   ]
  }
 ],
 "metadata": {
  "kernelspec": {
   "display_name": "Python 3",
   "language": "python",
   "name": "python3"
  },
  "language_info": {
   "codemirror_mode": {
    "name": "ipython",
    "version": 3
   },
   "file_extension": ".py",
   "mimetype": "text/x-python",
   "name": "python",
   "nbconvert_exporter": "python",
   "pygments_lexer": "ipython3",
   "version": "3.7.6"
  }
 },
 "nbformat": 4,
 "nbformat_minor": 4
}
